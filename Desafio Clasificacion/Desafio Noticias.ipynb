{
 "cells": [
  {
   "cell_type": "code",
   "execution_count": 34,
   "metadata": {},
   "outputs": [],
   "source": [
    "from sklearn import preprocessing\n",
    "from sklearn.model_selection import train_test_split\n",
    "from sklearn.datasets import make_classification\n",
    "from sklearn.naive_bayes import MultinomialNB\n",
    "from sklearn.linear_model import LogisticRegression\n",
    "from sklearn.neighbors import KNeighborsClassifier\n",
    "from sklearn.naive_bayes import GaussianNB\n",
    "from sklearn.svm import SVC\n",
    "from sklearn.decomposition import PCA\n",
    "from sklearn.metrics import confusion_matrix\n",
    "from sklearn.model_selection import cross_val_score\n",
    "from sklearn.metrics import accuracy_score\n",
    "from sklearn.metrics import f1_score\n",
    "from sklearn.metrics import roc_auc_score, classification_report\n",
    "from sklearn.metrics import  precision_score, recall_score, roc_curve, auc\n",
    "import matplotlib.pyplot as plt\n",
    "import pandas as pd\n",
    "import numpy as np\n",
    "import re\n",
    "import unidecode"
   ]
  },
  {
   "cell_type": "code",
   "execution_count": 35,
   "metadata": {},
   "outputs": [],
   "source": [
    "df = pd.read_csv('clarin_articles.csv')\n",
    "stopwords = pd.read_csv('stopwords.csv', header= None)"
   ]
  },
  {
   "cell_type": "code",
   "execution_count": 36,
   "metadata": {},
   "outputs": [
    {
     "data": {
      "text/html": [
       "<div>\n",
       "<style scoped>\n",
       "    .dataframe tbody tr th:only-of-type {\n",
       "        vertical-align: middle;\n",
       "    }\n",
       "\n",
       "    .dataframe tbody tr th {\n",
       "        vertical-align: top;\n",
       "    }\n",
       "\n",
       "    .dataframe thead th {\n",
       "        text-align: right;\n",
       "    }\n",
       "</style>\n",
       "<table border=\"1\" class=\"dataframe\">\n",
       "  <thead>\n",
       "    <tr style=\"text-align: right;\">\n",
       "      <th></th>\n",
       "      <th>articleBody</th>\n",
       "      <th>bajada</th>\n",
       "      <th>headline</th>\n",
       "      <th>section</th>\n",
       "      <th>volanta</th>\n",
       "    </tr>\n",
       "  </thead>\n",
       "  <tbody>\n",
       "    <tr>\n",
       "      <th>0</th>\n",
       "      <td>Lucas Rodríguez, integrante de la Selección Na...</td>\n",
       "      <td>Lucas Rodríguez hizo un video solicitándole al...</td>\n",
       "      <td>Sancionan a un jugador de Los Murciélagos por ...</td>\n",
       "      <td>de Deportes</td>\n",
       "      <td>Fútbol para ciegos</td>\n",
       "    </tr>\n",
       "    <tr>\n",
       "      <th>1</th>\n",
       "      <td>Luego de la histórica conquista en Indian Well...</td>\n",
       "      <td>El número 6 del mundo se acercó a una chica qu...</td>\n",
       "      <td>El gran gesto de Del Potro con una admiradora ...</td>\n",
       "      <td>de Deportes</td>\n",
       "      <td>Tenis</td>\n",
       "    </tr>\n",
       "    <tr>\n",
       "      <th>2</th>\n",
       "      <td>La Cámara de Diputados debatió ayer un proyect...</td>\n",
       "      <td>Hasta ahora sólo es contravención, en la Ciuda...</td>\n",
       "      <td>Debaten en Diputados un proyecto para penaliza...</td>\n",
       "      <td>de Sociedad</td>\n",
       "      <td>Violencia de género</td>\n",
       "    </tr>\n",
       "    <tr>\n",
       "      <th>3</th>\n",
       "      <td>¡Y algún día serán como Marcelo T. de Alvear, ...</td>\n",
       "      <td>Las autoridades del Colegio creen que pueden l...</td>\n",
       "      <td>El Nacional Buenos Aires espera arrancar su in...</td>\n",
       "      <td>de Sociedad</td>\n",
       "      <td>Ansiedad entre los aspirantes</td>\n",
       "    </tr>\n",
       "    <tr>\n",
       "      <th>4</th>\n",
       "      <td>En su primera sesión ordinaria del año, la Cám...</td>\n",
       "      <td>Es Romina del Plá, del Partido Obrero. Habló c...</td>\n",
       "      <td>Una diputada de izquierda fue la única que no ...</td>\n",
       "      <td>de Política</td>\n",
       "      <td>Se aprobaron penas</td>\n",
       "    </tr>\n",
       "  </tbody>\n",
       "</table>\n",
       "</div>"
      ],
      "text/plain": [
       "                                         articleBody  \\\n",
       "0  Lucas Rodríguez, integrante de la Selección Na...   \n",
       "1  Luego de la histórica conquista en Indian Well...   \n",
       "2  La Cámara de Diputados debatió ayer un proyect...   \n",
       "3  ¡Y algún día serán como Marcelo T. de Alvear, ...   \n",
       "4  En su primera sesión ordinaria del año, la Cám...   \n",
       "\n",
       "                                              bajada  \\\n",
       "0  Lucas Rodríguez hizo un video solicitándole al...   \n",
       "1  El número 6 del mundo se acercó a una chica qu...   \n",
       "2  Hasta ahora sólo es contravención, en la Ciuda...   \n",
       "3  Las autoridades del Colegio creen que pueden l...   \n",
       "4  Es Romina del Plá, del Partido Obrero. Habló c...   \n",
       "\n",
       "                                            headline      section  \\\n",
       "0  Sancionan a un jugador de Los Murciélagos por ...  de Deportes   \n",
       "1  El gran gesto de Del Potro con una admiradora ...  de Deportes   \n",
       "2  Debaten en Diputados un proyecto para penaliza...  de Sociedad   \n",
       "3  El Nacional Buenos Aires espera arrancar su in...  de Sociedad   \n",
       "4  Una diputada de izquierda fue la única que no ...  de Política   \n",
       "\n",
       "                         volanta  \n",
       "0             Fútbol para ciegos  \n",
       "1                          Tenis  \n",
       "2            Violencia de género  \n",
       "3  Ansiedad entre los aspirantes  \n",
       "4             Se aprobaron penas  "
      ]
     },
     "execution_count": 36,
     "metadata": {},
     "output_type": "execute_result"
    }
   ],
   "source": [
    "df.head()"
   ]
  },
  {
   "cell_type": "code",
   "execution_count": 37,
   "metadata": {},
   "outputs": [
    {
     "data": {
      "text/plain": [
       "articleBody    object\n",
       "bajada         object\n",
       "headline       object\n",
       "section        object\n",
       "volanta        object\n",
       "dtype: object"
      ]
     },
     "execution_count": 37,
     "metadata": {},
     "output_type": "execute_result"
    }
   ],
   "source": [
    "df.dtypes"
   ]
  },
  {
   "cell_type": "code",
   "execution_count": 38,
   "metadata": {},
   "outputs": [],
   "source": [
    "stopwords_list = stopwords[0].values\n",
    "stopwords_list = list(stopwords_list)"
   ]
  },
  {
   "cell_type": "code",
   "execution_count": 39,
   "metadata": {},
   "outputs": [],
   "source": [
    "from nltk import word_tokenize\n",
    "from nltk.stem import SnowballStemmer\n",
    "stemmer = SnowballStemmer('spanish')"
   ]
  },
  {
   "cell_type": "code",
   "execution_count": 40,
   "metadata": {},
   "outputs": [],
   "source": [
    "def text_stemmer(text):\n",
    "    if type(text) is str:\n",
    "        texto = text.lower()\n",
    "        unaccented_string = unidecode.unidecode(texto)\n",
    "        stripped = re.sub('[^a-z0-9]+', ' ', unaccented_string).lstrip()\n",
    "        stemmed = \" \".join([stemmer.stem(x) for x in stripped.split(' ')])\n",
    "        return stemmed"
   ]
  },
  {
   "cell_type": "code",
   "execution_count": 41,
   "metadata": {},
   "outputs": [],
   "source": [
    "df['articleBody2'] = df[\"articleBody\"].apply(text_stemmer)"
   ]
  },
  {
   "cell_type": "code",
   "execution_count": 42,
   "metadata": {},
   "outputs": [
    {
     "data": {
      "text/plain": [
       "array(['de Deportes', 'de Sociedad', 'de Política', 'de Tecnología',\n",
       "       'de Espectáculos', 'las más leídas', 'de Clarín', 'de Economía',\n",
       "       'de Mundo', 'de Viva', nan, 'de viajes', 'de Mundial 2018',\n",
       "       'de Autos', 'de Rural', 'de Buena Vida', 'de Cine',\n",
       "       'de Entremujeres', 'de New York Times International Weekly'],\n",
       "      dtype=object)"
      ]
     },
     "execution_count": 42,
     "metadata": {},
     "output_type": "execute_result"
    }
   ],
   "source": [
    "df.section.unique()"
   ]
  },
  {
   "cell_type": "code",
   "execution_count": 43,
   "metadata": {},
   "outputs": [
    {
     "data": {
      "text/html": [
       "<div>\n",
       "<style scoped>\n",
       "    .dataframe tbody tr th:only-of-type {\n",
       "        vertical-align: middle;\n",
       "    }\n",
       "\n",
       "    .dataframe tbody tr th {\n",
       "        vertical-align: top;\n",
       "    }\n",
       "\n",
       "    .dataframe thead th {\n",
       "        text-align: right;\n",
       "    }\n",
       "</style>\n",
       "<table border=\"1\" class=\"dataframe\">\n",
       "  <thead>\n",
       "    <tr style=\"text-align: right;\">\n",
       "      <th></th>\n",
       "      <th>articleBody</th>\n",
       "      <th>bajada</th>\n",
       "      <th>headline</th>\n",
       "      <th>section</th>\n",
       "      <th>volanta</th>\n",
       "      <th>articleBody2</th>\n",
       "    </tr>\n",
       "  </thead>\n",
       "  <tbody>\n",
       "    <tr>\n",
       "      <th>4</th>\n",
       "      <td>En su primera sesión ordinaria del año, la Cám...</td>\n",
       "      <td>Es Romina del Plá, del Partido Obrero. Habló c...</td>\n",
       "      <td>Una diputada de izquierda fue la única que no ...</td>\n",
       "      <td>de Política</td>\n",
       "      <td>Se aprobaron penas</td>\n",
       "      <td>en su primer sesion ordinari del ano la cam de...</td>\n",
       "    </tr>\n",
       "    <tr>\n",
       "      <th>6</th>\n",
       "      <td>En un duro revés para el Gobierno, la Justicia...</td>\n",
       "      <td>La Justicia consideró que no se justificaba el...</td>\n",
       "      <td>Declaran inconstitucional el decreto de Macri ...</td>\n",
       "      <td>de Política</td>\n",
       "      <td>Revés para el Gobierno</td>\n",
       "      <td>en un dur rev par el gobiern la justici declar...</td>\n",
       "    </tr>\n",
       "    <tr>\n",
       "      <th>16</th>\n",
       "      <td>Después de la masiva respuesta que obtuvieron ...</td>\n",
       "      <td>Es luego de las manifestaciones del último dom...</td>\n",
       "      <td>Los anti abortistas suben la apuesta y no desc...</td>\n",
       "      <td>de Política</td>\n",
       "      <td>Debate público</td>\n",
       "      <td>despu de la masiv respuest que obtuv en las ma...</td>\n",
       "    </tr>\n",
       "    <tr>\n",
       "      <th>23</th>\n",
       "      <td>El lonko Facundo Jones Huala lleva nueve meses...</td>\n",
       "      <td>El líder mapuche lleva 9 meses detenido. Se al...</td>\n",
       "      <td>Facundo Jones Huala en prisión: aislado, escuc...</td>\n",
       "      <td>de Política</td>\n",
       "      <td>Conflicto en la Patagonia</td>\n",
       "      <td>el lonk facund jon hual llev nuev mes en prisi...</td>\n",
       "    </tr>\n",
       "    <tr>\n",
       "      <th>27</th>\n",
       "      <td>El estudio científico hecho sobre las muestras...</td>\n",
       "      <td>Las pruebas dieron positivas en 2 manifestante...</td>\n",
       "      <td>Caso Rafael Nahuel: las pericias determinaron ...</td>\n",
       "      <td>de Política</td>\n",
       "      <td>Conflicto en el Sur</td>\n",
       "      <td>el estudi cientif hech sobr las muestr tom en ...</td>\n",
       "    </tr>\n",
       "  </tbody>\n",
       "</table>\n",
       "</div>"
      ],
      "text/plain": [
       "                                          articleBody  \\\n",
       "4   En su primera sesión ordinaria del año, la Cám...   \n",
       "6   En un duro revés para el Gobierno, la Justicia...   \n",
       "16  Después de la masiva respuesta que obtuvieron ...   \n",
       "23  El lonko Facundo Jones Huala lleva nueve meses...   \n",
       "27  El estudio científico hecho sobre las muestras...   \n",
       "\n",
       "                                               bajada  \\\n",
       "4   Es Romina del Plá, del Partido Obrero. Habló c...   \n",
       "6   La Justicia consideró que no se justificaba el...   \n",
       "16  Es luego de las manifestaciones del último dom...   \n",
       "23  El líder mapuche lleva 9 meses detenido. Se al...   \n",
       "27  Las pruebas dieron positivas en 2 manifestante...   \n",
       "\n",
       "                                             headline      section  \\\n",
       "4   Una diputada de izquierda fue la única que no ...  de Política   \n",
       "6   Declaran inconstitucional el decreto de Macri ...  de Política   \n",
       "16  Los anti abortistas suben la apuesta y no desc...  de Política   \n",
       "23  Facundo Jones Huala en prisión: aislado, escuc...  de Política   \n",
       "27  Caso Rafael Nahuel: las pericias determinaron ...  de Política   \n",
       "\n",
       "                      volanta  \\\n",
       "4          Se aprobaron penas   \n",
       "6      Revés para el Gobierno   \n",
       "16             Debate público   \n",
       "23  Conflicto en la Patagonia   \n",
       "27        Conflicto en el Sur   \n",
       "\n",
       "                                         articleBody2  \n",
       "4   en su primer sesion ordinari del ano la cam de...  \n",
       "6   en un dur rev par el gobiern la justici declar...  \n",
       "16  despu de la masiv respuest que obtuv en las ma...  \n",
       "23  el lonk facund jon hual llev nuev mes en prisi...  \n",
       "27  el estudi cientif hech sobr las muestr tom en ...  "
      ]
     },
     "execution_count": 43,
     "metadata": {},
     "output_type": "execute_result"
    }
   ],
   "source": [
    "df_sections = df[(df.section == 'de Política') | (df.section == 'de Economía')]\n",
    "df_sections = df_sections[pd.notnull(df_sections['articleBody2'])]\n",
    "df_sections.head()\n"
   ]
  },
  {
   "cell_type": "code",
   "execution_count": 44,
   "metadata": {},
   "outputs": [
    {
     "data": {
      "text/plain": [
       "section\n",
       "de Economía     54\n",
       "de Política    177\n",
       "Name: articleBody2, dtype: int64"
      ]
     },
     "execution_count": 44,
     "metadata": {},
     "output_type": "execute_result"
    }
   ],
   "source": [
    "df_sections.groupby('section')['articleBody2'].count()"
   ]
  },
  {
   "cell_type": "code",
   "execution_count": 45,
   "metadata": {},
   "outputs": [],
   "source": [
    "X = df_sections['articleBody2']\n",
    "y = df_sections['section']"
   ]
  },
  {
   "cell_type": "code",
   "execution_count": 46,
   "metadata": {},
   "outputs": [],
   "source": [
    "X_train, X_test, y_train, y_test = train_test_split(X, y, test_size=0.33, random_state=2)"
   ]
  },
  {
   "cell_type": "code",
   "execution_count": 47,
   "metadata": {},
   "outputs": [
    {
     "data": {
      "text/plain": [
       "(154, 7328)"
      ]
     },
     "execution_count": 47,
     "metadata": {},
     "output_type": "execute_result"
    }
   ],
   "source": [
    "from sklearn.feature_extraction.text import CountVectorizer\n",
    "count_vect = CountVectorizer(strip_accents= 'ascii', stop_words= stopwords_list)\n",
    "count_vect.fit(X_train)\n",
    "X_train_counts = count_vect.transform(X_train)\n",
    "\n",
    "X_train_counts.shape"
   ]
  },
  {
   "cell_type": "code",
   "execution_count": 48,
   "metadata": {},
   "outputs": [],
   "source": [
    "X_test_counts = count_vect.transform(X_test)"
   ]
  },
  {
   "cell_type": "code",
   "execution_count": 49,
   "metadata": {},
   "outputs": [],
   "source": [
    "def get_report(test_features,test_target,model, model_name):\n",
    "    y_pred = model.predict_proba(test_features)\n",
    "    y_pred_abs = model.predict(test_features)\n",
    "    Ytest = list(map(lambda x : 1 if(x == \"Política\") else 0,test_target))\n",
    "    fpr_log,tpr_log,thr_log = roc_curve(Ytest, y_pred[:,1])\n",
    "    df_aux = pd.DataFrame(dict(fpr=fpr_log, tpr=tpr_log, thr = thr_log))\n",
    "    plt.axis([0, 1.01, 0, 1.01])\n",
    "    plt.xlabel('1 - Specificty')\n",
    "    plt.ylabel('TPR / Sensitivity')\n",
    "    plt.title('Curve')\n",
    "    plt.plot(df_aux['fpr'],df_aux['tpr'])\n",
    "    plt.plot(np.arange(0,1, step =0.01), np.arange(0,1, step =0.01))\n",
    "    plt.show() \n",
    "    print(\"\\n Classification Report: \\n\")\n",
    "    print(confusion_matrix(test_target, y_pred_abs))\n",
    "    print(\"-------------------------------------------\\n\")"
   ]
  },
  {
   "cell_type": "markdown",
   "metadata": {},
   "source": [
    "# Naive Bayes"
   ]
  },
  {
   "cell_type": "code",
   "execution_count": 50,
   "metadata": {},
   "outputs": [
    {
     "name": "stdout",
     "output_type": "stream",
     "text": [
      "Accuracy Naive Bayes:  0.8831168831168831\n"
     ]
    }
   ],
   "source": [
    "model_multinb = MultinomialNB().fit(X_train_counts, y_train)\n",
    "y_pred_multinb = model_multinb.predict(X_test_counts)\n",
    "\n",
    "print('Accuracy Naive Bayes: ',accuracy_score(y_pred_multinb, y_test))"
   ]
  },
  {
   "cell_type": "code",
   "execution_count": 51,
   "metadata": {},
   "outputs": [
    {
     "name": "stderr",
     "output_type": "stream",
     "text": [
      "C:\\ProgramData\\Anaconda3\\lib\\site-packages\\sklearn\\metrics\\ranking.py:571: UndefinedMetricWarning: No positive samples in y_true, true positive value should be meaningless\n",
      "  UndefinedMetricWarning)\n"
     ]
    },
    {
     "data": {
      "image/png": "[encoded data removed]",
      "text/plain": [
       "<Figure size 432x288 with 1 Axes>"
      ]
     },
     "metadata": {},
     "output_type": "display_data"
    },
    {
     "name": "stdout",
     "output_type": "stream",
     "text": [
      "\n",
      " Classification Report: \n",
      "\n",
      "[[11  4]\n",
      " [ 5 57]]\n",
      "-------------------------------------------\n",
      "\n"
     ]
    }
   ],
   "source": [
    "get_report(X_test_counts,y_test,model_multinb,\" Naive Bayes\")"
   ]
  },
  {
   "cell_type": "code",
   "execution_count": 52,
   "metadata": {},
   "outputs": [
    {
     "data": {
      "text/html": [
       "<div>\n",
       "<style scoped>\n",
       "    .dataframe tbody tr th:only-of-type {\n",
       "        vertical-align: middle;\n",
       "    }\n",
       "\n",
       "    .dataframe tbody tr th {\n",
       "        vertical-align: top;\n",
       "    }\n",
       "\n",
       "    .dataframe thead th {\n",
       "        text-align: right;\n",
       "    }\n",
       "</style>\n",
       "<table border=\"1\" class=\"dataframe\">\n",
       "  <thead>\n",
       "    <tr style=\"text-align: right;\">\n",
       "      <th></th>\n",
       "      <th>articleBody2</th>\n",
       "      <th>Prediction</th>\n",
       "    </tr>\n",
       "  </thead>\n",
       "  <tbody>\n",
       "    <tr>\n",
       "      <th>456</th>\n",
       "      <td>la legalizacion del abort tuv su histor debat ...</td>\n",
       "      <td>de Política</td>\n",
       "    </tr>\n",
       "    <tr>\n",
       "      <th>492</th>\n",
       "      <td>com poc vec sus par ministr esper con expect q...</td>\n",
       "      <td>de Política</td>\n",
       "    </tr>\n",
       "    <tr>\n",
       "      <th>427</th>\n",
       "      <td>a un ano de que fue vist con vid por ultim vez...</td>\n",
       "      <td>de Política</td>\n",
       "    </tr>\n",
       "    <tr>\n",
       "      <th>501</th>\n",
       "      <td>alfred caser consider que la metafor del flan ...</td>\n",
       "      <td>de Política</td>\n",
       "    </tr>\n",
       "    <tr>\n",
       "      <th>442</th>\n",
       "      <td>ypf volvi a aument este doming el preci de las...</td>\n",
       "      <td>de Economía</td>\n",
       "    </tr>\n",
       "  </tbody>\n",
       "</table>\n",
       "</div>"
      ],
      "text/plain": [
       "                                          articleBody2   Prediction\n",
       "456  la legalizacion del abort tuv su histor debat ...  de Política\n",
       "492  com poc vec sus par ministr esper con expect q...  de Política\n",
       "427  a un ano de que fue vist con vid por ultim vez...  de Política\n",
       "501  alfred caser consider que la metafor del flan ...  de Política\n",
       "442  ypf volvi a aument este doming el preci de las...  de Economía"
      ]
     },
     "execution_count": 52,
     "metadata": {},
     "output_type": "execute_result"
    }
   ],
   "source": [
    "df_results = pd.DataFrame(X_test)\n",
    "df_results['Prediction'] = y_pred_multinb\n",
    "df_results.head(5)"
   ]
  },
  {
   "cell_type": "markdown",
   "metadata": {},
   "source": [
    "# KNN"
   ]
  },
  {
   "cell_type": "code",
   "execution_count": 53,
   "metadata": {},
   "outputs": [
    {
     "name": "stdout",
     "output_type": "stream",
     "text": [
      "Accuracy KNN:  0.8311688311688312\n"
     ]
    }
   ],
   "source": [
    "model_knn = KNeighborsClassifier(n_neighbors=10)\n",
    "model_knn.fit(X_train_counts,y_train)\n",
    "y_pred_knn = model_knn.predict(X_test_counts)\n",
    "print('Accuracy KNN: ',accuracy_score(y_pred_knn, y_test))"
   ]
  },
  {
   "cell_type": "code",
   "execution_count": 54,
   "metadata": {},
   "outputs": [],
   "source": [
    "X_counts = count_vect.transform(X)\n",
    "from sklearn.model_selection import cross_val_score\n",
    "scores_para_df_standar = []\n",
    "for i in range(1,100,5):\n",
    "    model_knn = KNeighborsClassifier(n_neighbors=i)\n",
    "    cv_scores = cross_val_score(model_knn, X_counts, y, cv=5)\n",
    "    dict_row_score = {'score_medio':np.mean(cv_scores),'score_std':np.std(cv_scores),'n_neighbours':i}\n",
    "    scores_para_df_standar.append(dict_row_score)"
   ]
  },
  {
   "cell_type": "code",
   "execution_count": 55,
   "metadata": {},
   "outputs": [
    {
     "data": {
      "text/html": [
       "<div>\n",
       "<style scoped>\n",
       "    .dataframe tbody tr th:only-of-type {\n",
       "        vertical-align: middle;\n",
       "    }\n",
       "\n",
       "    .dataframe tbody tr th {\n",
       "        vertical-align: top;\n",
       "    }\n",
       "\n",
       "    .dataframe thead th {\n",
       "        text-align: right;\n",
       "    }\n",
       "</style>\n",
       "<table border=\"1\" class=\"dataframe\">\n",
       "  <thead>\n",
       "    <tr style=\"text-align: right;\">\n",
       "      <th></th>\n",
       "      <th>n_neighbours</th>\n",
       "      <th>score_medio</th>\n",
       "      <th>score_std</th>\n",
       "    </tr>\n",
       "  </thead>\n",
       "  <tbody>\n",
       "    <tr>\n",
       "      <th>5</th>\n",
       "      <td>26</td>\n",
       "      <td>0.787752</td>\n",
       "      <td>0.029352</td>\n",
       "    </tr>\n",
       "    <tr>\n",
       "      <th>4</th>\n",
       "      <td>21</td>\n",
       "      <td>0.778867</td>\n",
       "      <td>0.049441</td>\n",
       "    </tr>\n",
       "    <tr>\n",
       "      <th>9</th>\n",
       "      <td>46</td>\n",
       "      <td>0.770634</td>\n",
       "      <td>0.008167</td>\n",
       "    </tr>\n",
       "    <tr>\n",
       "      <th>6</th>\n",
       "      <td>31</td>\n",
       "      <td>0.770542</td>\n",
       "      <td>0.010384</td>\n",
       "    </tr>\n",
       "    <tr>\n",
       "      <th>7</th>\n",
       "      <td>36</td>\n",
       "      <td>0.770542</td>\n",
       "      <td>0.010384</td>\n",
       "    </tr>\n",
       "  </tbody>\n",
       "</table>\n",
       "</div>"
      ],
      "text/plain": [
       "   n_neighbours  score_medio  score_std\n",
       "5            26     0.787752   0.029352\n",
       "4            21     0.778867   0.049441\n",
       "9            46     0.770634   0.008167\n",
       "6            31     0.770542   0.010384\n",
       "7            36     0.770542   0.010384"
      ]
     },
     "execution_count": 55,
     "metadata": {},
     "output_type": "execute_result"
    }
   ],
   "source": [
    "df_scores_standar = pd.DataFrame(scores_para_df_standar)\n",
    "#df_scores_standar\n",
    "df_scores_standar.sort_values(by=\"score_medio\",ascending=False).head(5)"
   ]
  },
  {
   "cell_type": "code",
   "execution_count": 56,
   "metadata": {},
   "outputs": [
    {
     "name": "stdout",
     "output_type": "stream",
     "text": [
      "Accuracy KNN:  0.8441558441558441\n"
     ]
    }
   ],
   "source": [
    "model_knn = KNeighborsClassifier(n_neighbors=16)\n",
    "model_knn.fit(X_train_counts,y_train)\n",
    "y_pred_knn = model_knn.predict(X_test_counts)\n",
    "print('Accuracy KNN: ',accuracy_score(y_pred_knn, y_test))"
   ]
  },
  {
   "cell_type": "code",
   "execution_count": 57,
   "metadata": {},
   "outputs": [],
   "source": [
    "df_scores_standar['limite_superior'] = df_scores_standar['score_medio'] + df_scores_standar['score_std']\n",
    "df_scores_standar['limite_inferior'] = df_scores_standar['score_medio'] - df_scores_standar['score_std']"
   ]
  },
  {
   "cell_type": "code",
   "execution_count": 58,
   "metadata": {},
   "outputs": [
    {
     "data": {
      "image/png": "[encoded data removed]",
      "text/plain": [
       "<Figure size 432x288 with 1 Axes>"
      ]
     },
     "metadata": {},
     "output_type": "display_data"
    }
   ],
   "source": [
    "import matplotlib.pyplot as plt\n",
    "%matplotlib inline\n",
    "\n",
    "plt.plot(df_scores_standar['n_neighbours'],df_scores_standar['limite_inferior'],color='r')\n",
    "plt.plot(df_scores_standar['n_neighbours'],df_scores_standar['score_medio'],color='b')\n",
    "plt.plot(df_scores_standar['n_neighbours'],df_scores_standar['limite_superior'],color='r');"
   ]
  },
  {
   "cell_type": "code",
   "execution_count": 59,
   "metadata": {},
   "outputs": [
    {
     "name": "stderr",
     "output_type": "stream",
     "text": [
      "C:\\ProgramData\\Anaconda3\\lib\\site-packages\\sklearn\\metrics\\ranking.py:571: UndefinedMetricWarning: No positive samples in y_true, true positive value should be meaningless\n",
      "  UndefinedMetricWarning)\n"
     ]
    },
    {
     "data": {
      "image/png": "[encoded data removed]",
      "text/plain": [
       "<Figure size 432x288 with 1 Axes>"
      ]
     },
     "metadata": {},
     "output_type": "display_data"
    },
    {
     "name": "stdout",
     "output_type": "stream",
     "text": [
      "\n",
      " Classification Report: \n",
      "\n",
      "[[ 5 10]\n",
      " [ 2 60]]\n",
      "-------------------------------------------\n",
      "\n"
     ]
    }
   ],
   "source": [
    "get_report(X_test_counts,y_test,model_knn,\"KNN (n=16)\")"
   ]
  },
  {
   "cell_type": "markdown",
   "metadata": {},
   "source": [
    "# Regresión Logística"
   ]
  },
  {
   "cell_type": "code",
   "execution_count": 60,
   "metadata": {},
   "outputs": [
    {
     "name": "stdout",
     "output_type": "stream",
     "text": [
      "Accuracy Logistic Regression:  0.9090909090909091\n"
     ]
    }
   ],
   "source": [
    "model_log = LogisticRegression(C=0.1)\n",
    "model_log.fit(X_train_counts, y_train)\n",
    "y_pred_log = model_log.predict(X_test_counts)\n",
    "print('Accuracy Logistic Regression: ',accuracy_score(y_pred_log, y_test))"
   ]
  },
  {
   "cell_type": "code",
   "execution_count": 61,
   "metadata": {},
   "outputs": [
    {
     "data": {
      "text/html": [
       "<div>\n",
       "<style scoped>\n",
       "    .dataframe tbody tr th:only-of-type {\n",
       "        vertical-align: middle;\n",
       "    }\n",
       "\n",
       "    .dataframe tbody tr th {\n",
       "        vertical-align: top;\n",
       "    }\n",
       "\n",
       "    .dataframe thead th {\n",
       "        text-align: right;\n",
       "    }\n",
       "</style>\n",
       "<table border=\"1\" class=\"dataframe\">\n",
       "  <thead>\n",
       "    <tr style=\"text-align: right;\">\n",
       "      <th></th>\n",
       "      <th>articleBody2</th>\n",
       "      <th>Prediction</th>\n",
       "    </tr>\n",
       "  </thead>\n",
       "  <tbody>\n",
       "    <tr>\n",
       "      <th>456</th>\n",
       "      <td>la legalizacion del abort tuv su histor debat ...</td>\n",
       "      <td>de Política</td>\n",
       "    </tr>\n",
       "    <tr>\n",
       "      <th>492</th>\n",
       "      <td>com poc vec sus par ministr esper con expect q...</td>\n",
       "      <td>de Política</td>\n",
       "    </tr>\n",
       "    <tr>\n",
       "      <th>427</th>\n",
       "      <td>a un ano de que fue vist con vid por ultim vez...</td>\n",
       "      <td>de Política</td>\n",
       "    </tr>\n",
       "    <tr>\n",
       "      <th>501</th>\n",
       "      <td>alfred caser consider que la metafor del flan ...</td>\n",
       "      <td>de Política</td>\n",
       "    </tr>\n",
       "    <tr>\n",
       "      <th>442</th>\n",
       "      <td>ypf volvi a aument este doming el preci de las...</td>\n",
       "      <td>de Economía</td>\n",
       "    </tr>\n",
       "    <tr>\n",
       "      <th>641</th>\n",
       "      <td>facund jon hual denunci que en la carcel conce...</td>\n",
       "      <td>de Política</td>\n",
       "    </tr>\n",
       "    <tr>\n",
       "      <th>94</th>\n",
       "      <td>el part justicial pj cuy doctrin histor es log...</td>\n",
       "      <td>de Política</td>\n",
       "    </tr>\n",
       "    <tr>\n",
       "      <th>46</th>\n",
       "      <td>en 2017 la deud public intern y extern en pes ...</td>\n",
       "      <td>de Economía</td>\n",
       "    </tr>\n",
       "    <tr>\n",
       "      <th>105</th>\n",
       "      <td>las critic a la iglesi que surg con ocasion de...</td>\n",
       "      <td>de Política</td>\n",
       "    </tr>\n",
       "    <tr>\n",
       "      <th>446</th>\n",
       "      <td>chinin es un lug emblemat par los vecin de san...</td>\n",
       "      <td>de Política</td>\n",
       "    </tr>\n",
       "  </tbody>\n",
       "</table>\n",
       "</div>"
      ],
      "text/plain": [
       "                                          articleBody2   Prediction\n",
       "456  la legalizacion del abort tuv su histor debat ...  de Política\n",
       "492  com poc vec sus par ministr esper con expect q...  de Política\n",
       "427  a un ano de que fue vist con vid por ultim vez...  de Política\n",
       "501  alfred caser consider que la metafor del flan ...  de Política\n",
       "442  ypf volvi a aument este doming el preci de las...  de Economía\n",
       "641  facund jon hual denunci que en la carcel conce...  de Política\n",
       "94   el part justicial pj cuy doctrin histor es log...  de Política\n",
       "46   en 2017 la deud public intern y extern en pes ...  de Economía\n",
       "105  las critic a la iglesi que surg con ocasion de...  de Política\n",
       "446  chinin es un lug emblemat par los vecin de san...  de Política"
      ]
     },
     "execution_count": 61,
     "metadata": {},
     "output_type": "execute_result"
    }
   ],
   "source": [
    "df_results = pd.DataFrame(X_test)\n",
    "df_results['Prediction'] = y_pred_log\n",
    "df_results.head(10)"
   ]
  },
  {
   "cell_type": "code",
   "execution_count": 62,
   "metadata": {},
   "outputs": [
    {
     "name": "stderr",
     "output_type": "stream",
     "text": [
      "C:\\ProgramData\\Anaconda3\\lib\\site-packages\\sklearn\\metrics\\ranking.py:571: UndefinedMetricWarning: No positive samples in y_true, true positive value should be meaningless\n",
      "  UndefinedMetricWarning)\n"
     ]
    },
    {
     "data": {
      "image/png": "[encoded data removed]",
      "text/plain": [
       "<Figure size 432x288 with 1 Axes>"
      ]
     },
     "metadata": {},
     "output_type": "display_data"
    },
    {
     "name": "stdout",
     "output_type": "stream",
     "text": [
      "\n",
      " Classification Report: \n",
      "\n",
      "[[11  4]\n",
      " [ 3 59]]\n",
      "-------------------------------------------\n",
      "\n"
     ]
    }
   ],
   "source": [
    "get_report(X_test_counts,y_test,model_log,\"Regresión Logística (c=0.1)\")"
   ]
  },
  {
   "cell_type": "code",
   "execution_count": null,
   "metadata": {},
   "outputs": [],
   "source": []
  },
  {
   "cell_type": "code",
   "execution_count": null,
   "metadata": {},
   "outputs": [],
   "source": []
  },
  {
   "cell_type": "code",
   "execution_count": null,
   "metadata": {},
   "outputs": [],
   "source": []
  }
 ],
 "metadata": {
  "kernelspec": {
   "display_name": "Python 3",
   "language": "python",
   "name": "python3"
  },
  "language_info": {
   "codemirror_mode": {
    "name": "ipython",
    "version": 3
   },
   "file_extension": ".py",
   "mimetype": "text/x-python",
   "name": "python",
   "nbconvert_exporter": "python",
   "pygments_lexer": "ipython3",
   "version": "3.6.5"
  }
 },
 "nbformat": 4,
 "nbformat_minor": 2
}
