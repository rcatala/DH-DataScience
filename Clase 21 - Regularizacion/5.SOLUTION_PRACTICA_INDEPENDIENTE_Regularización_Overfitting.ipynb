{
 "cells": [
  {
   "cell_type": "markdown",
   "metadata": {
    "colab_type": "text",
    "id": "bEs0UIxR2FkB"
   },
   "source": [
    "# Práctica Independiente\n",
    "## _Cross validation_\n",
    "\n",
    "Analicemos nuevamente el dataset inmobiliario de Boston y apliquemos cross-validation. Hay un excelente [ejemplo](http://scikit-learn.org/stable/auto_examples/plot_cv_predict.html) en la página de scikit-learn. Usemos ese código y modifiquémoslo para comparar el ajuste con _cross-validation_ contra el caso sin _cross-validation_. Vas a necesitar [esta función](http://scikit-learn.org/stable/modules/generated/sklearn.model_selection.cross_val_score.html) para ver las métricas del modelo con _cross-validation_ ."
   ]
  },
  {
   "cell_type": "markdown",
   "metadata": {
    "colab_type": "text",
    "id": "sZTgHBDS2FkG"
   },
   "source": [
    "Trabajar sobre el [ejemplo](http://scikit-learn.org/stable/auto_examples/plot_cv_predict.html) de cross-validation, agregando calculos de $r^2$. ¿Difiere el score usando CV del score obtenido sobre el set completos de datos? ¿En qué sentido? ¿Por qué?"
   ]
  },
  {
   "cell_type": "code",
   "execution_count": 1,
   "metadata": {
    "colab": {},
    "colab_type": "code",
    "id": "_XY6CMXP2FkJ",
    "outputId": "dfbaa721-1e09-4367-8a00-4aab06ddd32a"
   },
   "outputs": [
    {
     "data": {
      "text/plain": [
       "(array([0.57739134, 0.77151516, 0.76216485, 0.6102493 , 0.75540329]),\n",
       " 0.6953447864632976)"
      ]
     },
     "execution_count": 1,
     "metadata": {},
     "output_type": "execute_result"
    }
   ],
   "source": [
    "import random\n",
    "import matplotlib.pyplot as plt\n",
    "import pandas as pd\n",
    "from sklearn import datasets, linear_model\n",
    "from sklearn.model_selection import cross_val_score, train_test_split, KFold\n",
    "from sklearn.metrics import r2_score\n",
    "from sklearn.preprocessing import StandardScaler\n",
    "  \n",
    "random.seed(3)\n",
    "boston = datasets.load_boston()\n",
    "y = boston.target\n",
    "X = pd.DataFrame(boston.data, columns=boston.feature_names)\n",
    "X_train, X_test, y_train, y_test = train_test_split(X, y, test_size=0.30, random_state=42)\n",
    "lr = linear_model.LinearRegression()\n",
    "cv = KFold(5, shuffle=True)\n",
    "scores = cross_val_score(lr, X_train, y_train, cv=cv, scoring='r2')\n",
    "scores, scores.mean()"
   ]
  },
  {
   "cell_type": "markdown",
   "metadata": {
    "colab_type": "text",
    "id": "VWSAzI5u2Fkp"
   },
   "source": [
    "## Regularización: Lasso\n",
    "\n",
    "Lasso (en inglés: _least absolute shrinkage and selection operator_) es otra forma de regularization. A esta altura, deberías poder modificar los ejemplos del notebook aplicando el modelo [Lasso](http://scikit-learn.org/stable/modules/linear_model.html#lasso) de scikit-learn y su versión con _cross-validation_ `LassoCV`. \n",
    "\n",
    "La principal diferencia entre Lasso y Ridge es cómo se penaliza. Analizando la documentacion, buscá las diferencias conceptuales y prácticas entre ambos.\n",
    "\n",
    "¿Cuántos coeficientes son exactamente cero?\n",
    "\n",
    "¿Es el $\\alpha$ óptimo seleccionado por CV el mismo sin importar la escala de las variables?\n",
    "\n",
    "Recuerde que en Lasso y Ridge es necesario que lo features esten en la misma escala"
   ]
  },
  {
   "cell_type": "code",
   "execution_count": 2,
   "metadata": {
    "colab": {},
    "colab_type": "code",
    "id": "Y85Atb2v2Fkr",
    "outputId": "afee121f-6e43-479a-9269-59a57d6f8243"
   },
   "outputs": [
    {
     "data": {
      "text/plain": [
       "{'alpha': 0.7051444556162021,\n",
       " 'scores': array([0.65759654, 0.71555233, 0.57859116, 0.67866596, 0.69955545]),\n",
       " 'mean_score': 0.6659922876276453,\n",
       " 'zero_coefs': 3}"
      ]
     },
     "execution_count": 2,
     "metadata": {},
     "output_type": "execute_result"
    }
   ],
   "source": [
    "model = linear_model.LassoCV().fit(X_train, y_train)\n",
    "scores = cross_val_score(model, X_train, y_train, cv=cv, scoring='r2')\n",
    "dict(alpha=model.alpha_, scores=scores, mean_score=scores.mean(), zero_coefs=(model.coef_ == 0).sum())"
   ]
  },
  {
   "cell_type": "code",
   "execution_count": 3,
   "metadata": {
    "colab": {},
    "colab_type": "code",
    "id": "oxyy6cem2Fkx",
    "outputId": "969bc789-2959-4441-d391-68fa7d5b3225"
   },
   "outputs": [
    {
     "data": {
      "text/plain": [
       "{'alpha': 0.00858123049896144,\n",
       " 'scores': array([0.71008547, 0.75880447, 0.73786522, 0.56617484, 0.71148457]),\n",
       " 'mean_score': 0.6968829132109254,\n",
       " 'zero_coefs': 2}"
      ]
     },
     "execution_count": 3,
     "metadata": {},
     "output_type": "execute_result"
    }
   ],
   "source": [
    "model = linear_model.LassoCV(normalize=True).fit(X, y)\n",
    "scores = cross_val_score(model, X, y, cv=cv, scoring='r2')\n",
    "dict(alpha=model.alpha_, scores=scores, mean_score=scores.mean(), zero_coefs=(model.coef_ == 0).sum())"
   ]
  },
  {
   "cell_type": "code",
   "execution_count": 4,
   "metadata": {
    "colab": {},
    "colab_type": "code",
    "id": "3ZoL46Vn2Fk5",
    "outputId": "b4b18825-252b-4f6b-fb7c-393ddd73a456"
   },
   "outputs": [
    {
     "data": {
      "text/plain": [
       "{'alpha': 0.1,\n",
       " 'scores': array([0.77770482, 0.78126721, 0.67157724, 0.50200132, 0.72849034]),\n",
       " 'mean_score': 0.6922081849120505}"
      ]
     },
     "execution_count": 4,
     "metadata": {},
     "output_type": "execute_result"
    }
   ],
   "source": [
    "model = linear_model.RidgeCV(normalize=True).fit(X, y)\n",
    "scores = cross_val_score(model, X, y, cv=cv, scoring='r2')\n",
    "dict(alpha=model.alpha_, scores=scores, mean_score=scores.mean())"
   ]
  },
  {
   "cell_type": "code",
   "execution_count": null,
   "metadata": {
    "colab": {},
    "colab_type": "code",
    "id": "g1qUSIIK2Fk-"
   },
   "outputs": [],
   "source": []
  }
 ],
 "metadata": {
  "colab": {
   "collapsed_sections": [],
   "name": "4.PRACTICA_INDEPENDIENTE_Regularización_Overfitting.ipynb",
   "provenance": [],
   "version": "0.3.2"
  },
  "kernelspec": {
   "display_name": "Python 3",
   "language": "python",
   "name": "python3"
  },
  "language_info": {
   "codemirror_mode": {
    "name": "ipython",
    "version": 3
   },
   "file_extension": ".py",
   "mimetype": "text/x-python",
   "name": "python",
   "nbconvert_exporter": "python",
   "pygments_lexer": "ipython3",
   "version": "3.6.5"
  }
 },
 "nbformat": 4,
 "nbformat_minor": 1
}
