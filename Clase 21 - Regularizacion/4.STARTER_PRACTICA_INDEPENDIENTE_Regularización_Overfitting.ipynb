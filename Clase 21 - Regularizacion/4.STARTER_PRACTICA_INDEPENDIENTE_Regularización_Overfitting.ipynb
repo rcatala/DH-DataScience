{
 "cells": [
  {
   "cell_type": "markdown",
   "metadata": {
    "colab_type": "text",
    "id": "GH7WDSau8Qdz"
   },
   "source": [
    "# Práctica Independiente\n",
    "## _Cross validation_\n",
    "\n",
    "Analicemos nuevamente el dataset inmobiliario de Boston y apliquemos cross-validation. Hay un excelente [ejemplo](http://scikit-learn.org/stable/auto_examples/plot_cv_predict.html) en la página de scikit-learn. Usemos ese código y modifiquémoslo para comparar el ajuste con _cross-validation_ contra el caso sin _cross-validation_. Vas a necesitar [esta función](http://scikit-learn.org/stable/modules/generated/sklearn.model_selection.cross_val_score.html) para ver las métricas del modelo con _cross-validation_ ."
   ]
  },
  {
   "cell_type": "markdown",
   "metadata": {
    "colab_type": "text",
    "id": "WNAz2koN8Qd5"
   },
   "source": [
    "Trabajar sobre el [ejemplo](http://scikit-learn.org/stable/auto_examples/plot_cv_predict.html) de cross-validation, agregando calculos de $r^2$. ¿Difiere el score usando CV del score obtenido sobre el set completos de datos? ¿En qué sentido? ¿Por qué?"
   ]
  },
  {
   "cell_type": "code",
   "execution_count": 0,
   "metadata": {
    "colab": {},
    "colab_type": "code",
    "id": "EFTSmdU88Qd8"
   },
   "outputs": [],
   "source": []
  },
  {
   "cell_type": "markdown",
   "metadata": {
    "colab_type": "text",
    "id": "vfGDMy6z8QeF"
   },
   "source": [
    "## Regularización: Lasso\n",
    "\n",
    "Lasso (en ingles: _least absolute shrinkage and selection operator_) es otra forma de regularization. A esta altura, deberías poder modificar los ejemplos del notebook aplicando el modelo [Lasso](http://scikit-learn.org/stable/modules/linear_model.html#lasso) de scikit-learn y su versión con _cross-validation_ `LassoCV`. \n",
    "\n",
    "La principal diferencia entre Lasso y Ridge es cómo se penaliza. Analizando la documentacion, buscá las diferencias conceptuales y prácticas entre ambos.\n",
    "\n",
    "¿Cuántos coeficientes son exactamente cero?\n",
    "\n",
    "¿Es el $\\alpha$ óptimo seleccionado por CV el mismo sin importar la escala de las variables?"
   ]
  },
  {
   "cell_type": "code",
   "execution_count": 0,
   "metadata": {
    "colab": {},
    "colab_type": "code",
    "id": "7czVy9538QeI"
   },
   "outputs": [],
   "source": []
  }
 ],
 "metadata": {
  "colab": {
   "name": "3.PRACTICA_INDEPENDIENTE_Regularización_Overfitting.ipynb",
   "provenance": [],
   "version": "0.3.2"
  },
  "kernelspec": {
   "display_name": "Python 3",
   "language": "python",
   "name": "python3"
  },
  "language_info": {
   "codemirror_mode": {
    "name": "ipython",
    "version": 3
   },
   "file_extension": ".py",
   "mimetype": "text/x-python",
   "name": "python",
   "nbconvert_exporter": "python",
   "pygments_lexer": "ipython3",
   "version": "3.6.5"
  }
 },
 "nbformat": 4,
 "nbformat_minor": 1
}
