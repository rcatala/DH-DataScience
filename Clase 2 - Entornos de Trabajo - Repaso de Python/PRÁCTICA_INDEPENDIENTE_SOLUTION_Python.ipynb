{
 "cells": [
  {
   "cell_type": "markdown",
   "metadata": {
    "colab_type": "text",
    "id": "5rcjzr6gZ8BI"
   },
   "source": [
    "# Práctica Independiente Repaso de Python - SOLUTION"
   ]
  },
  {
   "cell_type": "markdown",
   "metadata": {
    "colab_type": "text",
    "id": "xxJy7xHtZ8BK"
   },
   "source": [
    "Se define una lista de diccionarios, con el que se desarrollará la práctica."
   ]
  },
  {
   "cell_type": "code",
   "execution_count": null,
   "metadata": {
    "colab": {
     "autoexec": {
      "startup": false,
      "wait_interval": 0
     }
    },
    "colab_type": "code",
    "id": "BZXpfc-cZ8BL"
   },
   "outputs": [],
   "source": [
    "# Diccionario de peliculas\n",
    "\n",
    "movies = [\n",
    "{\n",
    "\"name\": \"Usual Suspects\", \n",
    "\"imdb\": 7.0,\n",
    "\"category\": \"Thriller\"\n",
    "},\n",
    "{\n",
    "\"name\": \"Hitman\",\n",
    "\"imdb\": 6.3,\n",
    "\"category\": \"Action\"\n",
    "},\n",
    "{\n",
    "\"name\": \"Dark Knight\",\n",
    "\"imdb\": 9.0,\n",
    "\"category\": \"Adventure\"\n",
    "},\n",
    "{\n",
    "\"name\": \"The Help\",\n",
    "\"imdb\": 8.0,\n",
    "\"category\": \"Drama\"\n",
    "},\n",
    "{\n",
    "\"name\": \"The Choice\",\n",
    "\"imdb\": 6.2,\n",
    "\"category\": \"Romance\"\n",
    "},\n",
    "{\n",
    "\"name\": \"Colonia\",\n",
    "\"imdb\": 7.4,\n",
    "\"category\": \"Romance\"\n",
    "},\n",
    "{\n",
    "\"name\": \"Love\",\n",
    "\"imdb\": 6.0,\n",
    "\"category\": \"Romance\"\n",
    "},\n",
    "{\n",
    "\"name\": \"Bride Wars\",\n",
    "\"imdb\": 5.4,\n",
    "\"category\": \"Romance\"\n",
    "},\n",
    "{\n",
    "\"name\": \"AlphaJet\",\n",
    "\"imdb\": 3.2,\n",
    "\"category\": \"War\"\n",
    "},\n",
    "{\n",
    "\"name\": \"Ringing Crime\",\n",
    "\"imdb\": 4.0,\n",
    "\"category\": \"Crime\"\n",
    "},\n",
    "{\n",
    "\"name\": \"Joking muck\",\n",
    "\"imdb\": 7.2,\n",
    "\"category\": \"Comedy\"\n",
    "},\n",
    "{\n",
    "\"name\": \"What is the name\",\n",
    "\"imdb\": 9.2,\n",
    "\"category\": \"Suspense\"\n",
    "},\n",
    "{\n",
    "\"name\": \"Detective\",\n",
    "\"imdb\": 7.0,\n",
    "\"category\": \"Suspense\"\n",
    "},\n",
    "{\n",
    "\"name\": \"Exam\",\n",
    "\"imdb\": 4.2,\n",
    "\"category\": \"Thriller\"\n",
    "},\n",
    "{\n",
    "\"name\": \"We Two\",\n",
    "\"imdb\": 7.2,\n",
    "\"category\": \"Romance\"\n",
    "}\n",
    "]"
   ]
  },
  {
   "cell_type": "markdown",
   "metadata": {
    "colab_type": "text",
    "id": "pBNfoP8yZ8BP"
   },
   "source": [
    "### Ejercicio 1"
   ]
  },
  {
   "cell_type": "code",
   "execution_count": null,
   "metadata": {
    "colab": {
     "autoexec": {
      "startup": false,
      "wait_interval": 0
     }
    },
    "colab_type": "code",
    "id": "ubXu7oz3Z8BQ"
   },
   "outputs": [],
   "source": [
    "# Escribir una función que toma una película (movie) y retorna True si su score IMDB es mayor a 5.5\n",
    "# y False en caso contrario\n",
    "def peliculaPromedioMayor55(movie):\n",
    "    return movie['imdb'] > 5.5"
   ]
  },
  {
   "cell_type": "code",
   "execution_count": null,
   "metadata": {
    "colab": {
     "autoexec": {
      "startup": false,
      "wait_interval": 0
     }
    },
    "colab_type": "code",
    "id": "3BCFrBlBZ8BT",
    "outputId": "127ebc8f-24bc-4a3e-d750-0c9b7720e08d"
   },
   "outputs": [],
   "source": [
    "# Definimos una película de ejemplo\n",
    "m = {\n",
    "\"name\": \"We Two\",\n",
    "\"imdb\": 7.2,\n",
    "\"category\": \"Romance\"\n",
    "}\n",
    "\n",
    "# Testeamos nuestra función\n",
    "peliculaPromedioMayor55(m)"
   ]
  },
  {
   "cell_type": "markdown",
   "metadata": {
    "colab_type": "text",
    "id": "HWZHnp_tZ8Ba"
   },
   "source": [
    "### Ejercicio 2"
   ]
  },
  {
   "cell_type": "code",
   "execution_count": null,
   "metadata": {
    "colab": {
     "autoexec": {
      "startup": false,
      "wait_interval": 0
     }
    },
    "colab_type": "code",
    "id": "1y0RYGqVZ8Bc"
   },
   "outputs": [],
   "source": [
    "# Escribir una función que retorna la sub lista de las películas con score IMDB mayor a 5.5 \n",
    "# (Hint: Puede ser útil utilizar la función definida en el punto anterior).\n",
    "def subListaPeliculasPromedioMayor55(peliculas):\n",
    "    ret = []\n",
    "    for p in peliculas:\n",
    "        if peliculaPromedioMayor55(p):\n",
    "            ret.append(p)\n",
    "    return ret"
   ]
  },
  {
   "cell_type": "code",
   "execution_count": null,
   "metadata": {
    "colab": {
     "autoexec": {
      "startup": false,
      "wait_interval": 0
     }
    },
    "colab_type": "code",
    "id": "F0MlaB4pZ8Bh"
   },
   "outputs": [],
   "source": [
    "def subListaPeliculasPromedioMayor55(peliculas):\n",
    "    return [p for p in peliculas if peliculaPromedioMayor55(p)]"
   ]
  },
  {
   "cell_type": "code",
   "execution_count": null,
   "metadata": {
    "colab": {
     "autoexec": {
      "startup": false,
      "wait_interval": 0
     }
    },
    "colab_type": "code",
    "id": "Dg6giQo3Z8Bp",
    "outputId": "ba79372e-aeec-495c-b1c4-f079d10b82ed"
   },
   "outputs": [],
   "source": [
    "subListaPeliculasPromedioMayor55(movies)"
   ]
  },
  {
   "cell_type": "code",
   "execution_count": null,
   "metadata": {
    "colab": {
     "autoexec": {
      "startup": false,
      "wait_interval": 0
     }
    },
    "colab_type": "code",
    "id": "GV8f6tZVZ8Bt",
    "outputId": "83b40155-fa74-42c3-c87a-2bb18b831929"
   },
   "outputs": [],
   "source": [
    "subListaPeliculasPromedioMayor55(movies)"
   ]
  },
  {
   "cell_type": "markdown",
   "metadata": {
    "colab_type": "text",
    "id": "XlYWkTb1Z8By"
   },
   "source": [
    "### Ejercicio 3"
   ]
  },
  {
   "cell_type": "code",
   "execution_count": null,
   "metadata": {
    "colab": {
     "autoexec": {
      "startup": false,
      "wait_interval": 0
     }
    },
    "colab_type": "code",
    "id": "BI5kND8VZ8B0"
   },
   "outputs": [],
   "source": [
    "# Escribir una función que toma el nombre de una categoría y \n",
    "# retorna únicamente las películas que pertenecen a dicha categoría.\n",
    "def getPeliculasDeCategoria(categoria):\n",
    "    ret = []\n",
    "    for m in movies:\n",
    "        if m['category'] == categoria:\n",
    "            ret.append(m)\n",
    "    return ret"
   ]
  },
  {
   "cell_type": "code",
   "execution_count": null,
   "metadata": {
    "colab": {
     "autoexec": {
      "startup": false,
      "wait_interval": 0
     }
    },
    "colab_type": "code",
    "id": "1T_1gXbzZ8B3"
   },
   "outputs": [],
   "source": [
    "def getPeliculasDeCategoria(categoria):\n",
    "    return [p for p in movies if p['category'] == categoria]"
   ]
  },
  {
   "cell_type": "code",
   "execution_count": null,
   "metadata": {
    "colab": {
     "autoexec": {
      "startup": false,
      "wait_interval": 0
     }
    },
    "colab_type": "code",
    "id": "DWfT2wPCZ8B6",
    "outputId": "183cac84-0f66-45b6-ad38-c111207b06a9"
   },
   "outputs": [],
   "source": [
    "getPeliculasDeCategoria('Romance')"
   ]
  },
  {
   "cell_type": "code",
   "execution_count": null,
   "metadata": {
    "colab": {
     "autoexec": {
      "startup": false,
      "wait_interval": 0
     }
    },
    "colab_type": "code",
    "id": "u7p8TAZvZ8B-",
    "outputId": "048f7424-4bed-4b3b-9fe7-7f7606614105"
   },
   "outputs": [],
   "source": [
    "getPeliculasDeCategoria('Romance')"
   ]
  },
  {
   "cell_type": "markdown",
   "metadata": {
    "colab_type": "text",
    "id": "hbTqcLQrZ8CG"
   },
   "source": [
    "### Ejercicio 4"
   ]
  },
  {
   "cell_type": "code",
   "execution_count": null,
   "metadata": {
    "colab": {
     "autoexec": {
      "startup": false,
      "wait_interval": 0
     }
    },
    "colab_type": "code",
    "id": "B54vmGAUZ8CI"
   },
   "outputs": [],
   "source": [
    "# Escribir una función que recibe una lista de películas y calcule su promedio de score IMDB\n",
    "def promedioDeLista(lista):\n",
    "    sumatoria = 0\n",
    "    for p in lista:\n",
    "        sumatoria = sumatoria + p['imdb']\n",
    "    \n",
    "    return sumatoria / len(lista)"
   ]
  },
  {
   "cell_type": "code",
   "execution_count": null,
   "metadata": {
    "colab": {
     "autoexec": {
      "startup": false,
      "wait_interval": 0
     }
    },
    "colab_type": "code",
    "id": "2WJXtfbBZ8CL",
    "outputId": "6cab558c-ff47-4eee-86fc-e32884e22c75"
   },
   "outputs": [],
   "source": [
    "promedioDeLista(movies)"
   ]
  },
  {
   "cell_type": "markdown",
   "metadata": {
    "colab_type": "text",
    "id": "rLFykF5TZ8CP"
   },
   "source": [
    "### Ejercicio 5"
   ]
  },
  {
   "cell_type": "code",
   "execution_count": null,
   "metadata": {
    "colab": {
     "autoexec": {
      "startup": false,
      "wait_interval": 0
     }
    },
    "colab_type": "code",
    "id": "msbfFpgJZ8CQ"
   },
   "outputs": [],
   "source": [
    "# BONUS: Escribir una función que recibe una categoría y computa su promedio de score IMDB\n",
    "#(Hint: se pueden reutilizar funciones ya definidas)\n",
    "def promedioDeCategoria(categoria):\n",
    "    peliculasDeLaCategoria = getPeliculaDeCategoria(categoria)\n",
    "    return promedioDeLista(peliculasDeLaCategoria)"
   ]
  },
  {
   "cell_type": "code",
   "execution_count": null,
   "metadata": {
    "colab": {
     "autoexec": {
      "startup": false,
      "wait_interval": 0
     }
    },
    "colab_type": "code",
    "id": "GkbMcBqbZ8CU",
    "outputId": "230d4a06-0c64-4145-b740-e20b50818856"
   },
   "outputs": [],
   "source": [
    "promedioDeCategoria('Action')"
   ]
  },
  {
   "cell_type": "code",
   "execution_count": null,
   "metadata": {
    "colab": {
     "autoexec": {
      "startup": false,
      "wait_interval": 0
     }
    },
    "colab_type": "code",
    "id": "sOw4ad7TZ8Cb",
    "outputId": "2e34c60f-3b87-4596-cc97-3cb9c995f172"
   },
   "outputs": [],
   "source": [
    "promedioDeCategoria('Romance')"
   ]
  }
 ],
 "metadata": {
  "colab": {
   "default_view": {},
   "name": "PRÁCTICA_INDEPENDIENTE_SOLUTION_Python.ipynb",
   "provenance": [
    {
     "file_id": "1IsZb2lCo2ID7RVyhQ4lKtLIJdrwM3mUt",
     "timestamp": 1533578583292
    }
   ],
   "version": "0.3.2",
   "views": {}
  },
  "kernelspec": {
   "display_name": "Python 3",
   "language": "python",
   "name": "python3"
  },
  "language_info": {
   "codemirror_mode": {
    "name": "ipython",
    "version": 3
   },
   "file_extension": ".py",
   "mimetype": "text/x-python",
   "name": "python",
   "nbconvert_exporter": "python",
   "pygments_lexer": "ipython3",
   "version": "3.6.5"
  }
 },
 "nbformat": 4,
 "nbformat_minor": 1
}
