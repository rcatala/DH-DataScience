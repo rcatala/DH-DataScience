{
 "cells": [
  {
   "cell_type": "markdown",
   "metadata": {
    "colab_type": "text",
    "id": "-uWxNvm4JUsO"
   },
   "source": [
    "# Repaso de Python"
   ]
  },
  {
   "cell_type": "markdown",
   "metadata": {
    "colab_type": "text",
    "id": "8pvTWQNQJUsQ"
   },
   "source": [
    "## Tuplas, listas y diccionarios"
   ]
  },
  {
   "cell_type": "code",
   "execution_count": null,
   "metadata": {
    "colab": {
     "autoexec": {
      "startup": false,
      "wait_interval": 0
     },
     "base_uri": "https://localhost:8080/",
     "height": 34
    },
    "colab_type": "code",
    "executionInfo": {
     "elapsed": 9880,
     "status": "ok",
     "timestamp": 1532984730625,
     "user": {
      "displayName": "Paolo Donizetti",
      "photoUrl": "https://lh3.googleusercontent.com/a/default-user=s128",
      "userId": "102274939882416466592"
     },
     "user_tz": 180
    },
    "id": "qxWq3jxLJUsR",
    "outputId": "4bbd503c-9dc2-4159-c9c6-192cdd601d6a"
   },
   "outputs": [],
   "source": [
    "alumno = (\"Fernando\",\"Gonzalez\",26)\n",
    "alumno"
   ]
  },
  {
   "cell_type": "markdown",
   "metadata": {},
   "source": [
    "Los elementos de la tupla no se pueden modificar:"
   ]
  },
  {
   "cell_type": "code",
   "execution_count": null,
   "metadata": {},
   "outputs": [],
   "source": [
    "alumno[0] = 'Jorge'"
   ]
  },
  {
   "cell_type": "markdown",
   "metadata": {},
   "source": [
    "Podemos generar variables a partir de los elementos de una tupla ('unpacking'):"
   ]
  },
  {
   "cell_type": "code",
   "execution_count": null,
   "metadata": {},
   "outputs": [],
   "source": [
    "nombre, apellido, edad = alumno\n",
    "apellido"
   ]
  },
  {
   "cell_type": "markdown",
   "metadata": {},
   "source": [
    "Podemos concatenar tuplas:"
   ]
  },
  {
   "cell_type": "code",
   "execution_count": null,
   "metadata": {},
   "outputs": [],
   "source": [
    "(\"Fernando\",\"Gonzalez\",26) + ('Buenos Aires', 'Argentina')"
   ]
  },
  {
   "cell_type": "code",
   "execution_count": null,
   "metadata": {},
   "outputs": [],
   "source": [
    "alumno + ('Buenos Aires', 'Argentina')"
   ]
  },
  {
   "cell_type": "markdown",
   "metadata": {
    "colab_type": "text",
    "id": "IMefjBIVJUsW"
   },
   "source": [
    "Si quisiera guardar los datos de todos mis alumnos utilizo una lista de tuplas:"
   ]
  },
  {
   "cell_type": "code",
   "execution_count": null,
   "metadata": {
    "colab": {
     "autoexec": {
      "startup": false,
      "wait_interval": 0
     }
    },
    "colab_type": "code",
    "id": "ck5lAsi-JUsX"
   },
   "outputs": [],
   "source": [
    "alumnos = [(\"Fernando\",\"Gonzalez\",26),(\"Florencia\",\"Martinez\",32),(\"Lucrecia\",\"Fernandez\",32)]\n",
    "alumnos"
   ]
  },
  {
   "cell_type": "markdown",
   "metadata": {},
   "source": [
    "Agrego un elemento a la lista:"
   ]
  },
  {
   "cell_type": "code",
   "execution_count": null,
   "metadata": {},
   "outputs": [],
   "source": [
    "alumno_Perez = ('Jorge', 'Perez', 28)"
   ]
  },
  {
   "cell_type": "code",
   "execution_count": null,
   "metadata": {},
   "outputs": [],
   "source": [
    "alumnos.append(alumno_Perez)\n",
    "alumnos"
   ]
  },
  {
   "cell_type": "markdown",
   "metadata": {},
   "source": [
    "Reemplazo un elemento de la lista:"
   ]
  },
  {
   "cell_type": "code",
   "execution_count": null,
   "metadata": {},
   "outputs": [],
   "source": [
    "alumnos[0] = alumno_Perez\n",
    "alumnos"
   ]
  },
  {
   "cell_type": "markdown",
   "metadata": {},
   "source": [
    "Inserto un elemento en la lista en una locación específica:"
   ]
  },
  {
   "cell_type": "code",
   "execution_count": null,
   "metadata": {},
   "outputs": [],
   "source": [
    "alumnos.insert(1,('Ramiro','Martinelli',29))\n",
    "alumnos"
   ]
  },
  {
   "cell_type": "markdown",
   "metadata": {},
   "source": [
    ".pop() remueve y devuelve el elemnto en la locación especificada:"
   ]
  },
  {
   "cell_type": "code",
   "execution_count": null,
   "metadata": {},
   "outputs": [],
   "source": [
    "alumnos.pop(0)"
   ]
  },
  {
   "cell_type": "code",
   "execution_count": null,
   "metadata": {},
   "outputs": [],
   "source": [
    "alumnos"
   ]
  },
  {
   "cell_type": "markdown",
   "metadata": {},
   "source": [
    "slicing:"
   ]
  },
  {
   "cell_type": "code",
   "execution_count": null,
   "metadata": {},
   "outputs": [],
   "source": [
    "alumnos[1:3]"
   ]
  },
  {
   "cell_type": "markdown",
   "metadata": {},
   "source": [
    "Genero un diccionario con profesores y ayudantes:"
   ]
  },
  {
   "cell_type": "code",
   "execution_count": null,
   "metadata": {
    "colab": {
     "autoexec": {
      "startup": false,
      "wait_interval": 0
     }
    },
    "colab_type": "code",
    "id": "9SWysN_IJUsa"
   },
   "outputs": [],
   "source": [
    "curso={\"ayudante\":(\"Javier\",\"Rodriguez\",32),\"profesor\":(\"Marisol\",\"Andrade\",39)}\n",
    "curso"
   ]
  },
  {
   "cell_type": "markdown",
   "metadata": {
    "colab_type": "text",
    "id": "NLKo1z8KJUsd"
   },
   "source": [
    "### 2- Definición de funciones"
   ]
  },
  {
   "cell_type": "code",
   "execution_count": null,
   "metadata": {
    "colab": {
     "autoexec": {
      "startup": false,
      "wait_interval": 0
     }
    },
    "colab_type": "code",
    "id": "j1ciu--DJUse"
   },
   "outputs": [],
   "source": [
    "# Escribir una función que recibe la longitud del lado de un cuadrado y retorna el área del cuadrado\n",
    "def areaSquare(lado): \n",
    "    return lado ** 2"
   ]
  },
  {
   "cell_type": "code",
   "execution_count": null,
   "metadata": {
    "colab": {
     "autoexec": {
      "startup": false,
      "wait_interval": 0
     }
    },
    "colab_type": "code",
    "id": "mZ7bMU0YJUsi"
   },
   "outputs": [],
   "source": [
    "# Escribir una función que recibe el largo, ancho y profundidad de un ”cuboide” y retorna el área de la superficie del ”cuboide”\n",
    "def surfaceAreaCuboid(largo,ancho,profundidad): \n",
    "    superficie = 2 * (largo * ancho + largo * profundidad + ancho * profundidad)\n",
    "    return superficie"
   ]
  },
  {
   "cell_type": "markdown",
   "metadata": {
    "colab_type": "text",
    "id": "TIaX0OZMJUso"
   },
   "source": [
    "Ahora llamamos a las funciones definidas anteriormente"
   ]
  },
  {
   "cell_type": "code",
   "execution_count": null,
   "metadata": {
    "colab": {
     "autoexec": {
      "startup": false,
      "wait_interval": 0
     }
    },
    "colab_type": "code",
    "id": "EMTOSAVnJUsp"
   },
   "outputs": [],
   "source": [
    "areaSquare(3)"
   ]
  },
  {
   "cell_type": "code",
   "execution_count": null,
   "metadata": {
    "colab": {
     "autoexec": {
      "startup": false,
      "wait_interval": 0
     }
    },
    "colab_type": "code",
    "id": "HVZ8-iTpJUss"
   },
   "outputs": [],
   "source": [
    "surfaceAreaCuboid(1,3,5)"
   ]
  },
  {
   "cell_type": "markdown",
   "metadata": {
    "colab_type": "text",
    "id": "B6uRg6WbJUsw"
   },
   "source": [
    "### 3 - Listas por comprensión\n",
    "\n",
    "### Listas básicas por comprensión\n",
    "\n"
   ]
  },
  {
   "cell_type": "markdown",
   "metadata": {
    "colab_type": "text",
    "id": "mErzqhaAJUsx"
   },
   "source": [
    "#### ¿Qué son las listas por comprensión?\n",
    "\n",
    "Las listas por comprensión son sentencias que realizan algún tipo de operación en cada elemento de una lista. Vamos a empezar con una simple lista de números:"
   ]
  },
  {
   "cell_type": "code",
   "execution_count": null,
   "metadata": {
    "colab": {
     "autoexec": {
      "startup": false,
      "wait_interval": 0
     }
    },
    "colab_type": "code",
    "id": "vBC1YUarJUsy"
   },
   "outputs": [],
   "source": [
    "numbers = [0,1,2,3,4,5,6,7,8,9]"
   ]
  },
  {
   "cell_type": "markdown",
   "metadata": {
    "colab_type": "text",
    "id": "xOdzUowVJUs3"
   },
   "source": [
    "Supongamos que queremos sumar 1 a cada elemento de la lista. Podríamos hacer esto de diferentes\n",
    "maneras sin utilizar listas por comrensión. Podríamos utilizar un for:"
   ]
  },
  {
   "cell_type": "code",
   "execution_count": null,
   "metadata": {
    "colab": {
     "autoexec": {
      "startup": false,
      "wait_interval": 0
     }
    },
    "colab_type": "code",
    "id": "KJlK4ZZ2JUs4"
   },
   "outputs": [],
   "source": [
    "nums_plus_one = []\n",
    "for num in numbers:\n",
    "    nums_plus_one.append(num + 1)"
   ]
  },
  {
   "cell_type": "code",
   "execution_count": null,
   "metadata": {
    "colab": {
     "autoexec": {
      "startup": false,
      "wait_interval": 0
     }
    },
    "colab_type": "code",
    "id": "KQ2vadNTJUs7"
   },
   "outputs": [],
   "source": [
    "nums_plus_one"
   ]
  },
  {
   "cell_type": "markdown",
   "metadata": {
    "colab_type": "text",
    "id": "mx6uIFulJUs_"
   },
   "source": [
    "Por suerte tenemos las listas por comprensión"
   ]
  },
  {
   "cell_type": "code",
   "execution_count": null,
   "metadata": {
    "colab": {
     "autoexec": {
      "startup": false,
      "wait_interval": 0
     }
    },
    "colab_type": "code",
    "id": "czdfOKCkJUtA"
   },
   "outputs": [],
   "source": [
    "nums_plus_one_lc = [x + 1 for x in numbers]"
   ]
  },
  {
   "cell_type": "code",
   "execution_count": null,
   "metadata": {
    "colab": {
     "autoexec": {
      "startup": false,
      "wait_interval": 0
     }
    },
    "colab_type": "code",
    "id": "gtUKU7t8JUtF"
   },
   "outputs": [],
   "source": [
    "nums_plus_one_lc"
   ]
  },
  {
   "cell_type": "markdown",
   "metadata": {
    "colab_type": "text",
    "id": "CeakjgoCJUtI"
   },
   "source": [
    "Vayamos al detalle de cómo esto funciona:\n",
    "* num_plus_one es asignada a izquierda como una nueva variable\n",
    "* Las listas por comprensión retornan una lista, y la sentencia está envuelta en corchetes: [...]\n",
    "* Entre los corchetes la estructura es similar a la de un loop for:\n",
    "    1. La **operación por elemento** viene primero: x+1\n",
    "    2. Luego está la **variable de asignación de la iteración**: for x\n",
    "    3. Por último, la **la lista de elementos sobre la cual iterar**: in numbers"
   ]
  },
  {
   "cell_type": "markdown",
   "metadata": {
    "colab_type": "text",
    "id": "iUOdZFeiJUtJ"
   },
   "source": [
    "### Lógica condicional en las listas por comprensión"
   ]
  },
  {
   "cell_type": "markdown",
   "metadata": {
    "colab_type": "text",
    "id": "CSOrbXOIJUtK"
   },
   "source": [
    "Las listas por comprensión no sólo sirven para iterar sobre los elementos para aplicarles alguna operación, también se pueden aplicar condiciones. \n",
    "Supongamos que quisieramos \"binarizar\" una variable según si cada elemento es mayor o menor/igual que la mitad del máximo de todos los elementos. El for loop para hacer esto podría ser de esta manera:"
   ]
  },
  {
   "cell_type": "code",
   "execution_count": null,
   "metadata": {
    "colab": {
     "autoexec": {
      "startup": false,
      "wait_interval": 0
     }
    },
    "colab_type": "code",
    "id": "vd4HKZZnJUtK"
   },
   "outputs": [],
   "source": [
    "n = [1, 2, 7, 21, 3, 1, 62, 3, 34, 12, 73, 44, 12, 11, 9]\n",
    "n_bin = []\n",
    "n_max_2 = max(n) / 2\n",
    "for x in n:\n",
    "    if x >= n_max_2:\n",
    "        n_bin.append(1)\n",
    "    else:\n",
    "        n_bin.append(0)"
   ]
  },
  {
   "cell_type": "code",
   "execution_count": null,
   "metadata": {},
   "outputs": [],
   "source": [
    "n_bin"
   ]
  },
  {
   "cell_type": "markdown",
   "metadata": {
    "colab_type": "text",
    "id": "uhfD-r1DJUtM"
   },
   "source": [
    "Pero esto requiere mucho código. Una lista por comprensión puede hacer lo mismo mucho más fácil:\n",
    "\n",
    "##### 3- A \"Binarizar\" n de manera tal que los valores mayores o iguales a la mitad del máximo de n sean 1, los demás 0"
   ]
  },
  {
   "cell_type": "markdown",
   "metadata": {
    "colab_type": "text",
    "id": "gFvs8w15JUtN"
   },
   "source": [
    "Primero veamos cómo se interpreta una expresión condicional en Python"
   ]
  },
  {
   "cell_type": "code",
   "execution_count": null,
   "metadata": {
    "colab": {
     "autoexec": {
      "startup": false,
      "wait_interval": 0
     }
    },
    "colab_type": "code",
    "id": "9JqJnDZSJUtO"
   },
   "outputs": [],
   "source": [
    "x = 2\n",
    "print (1 if x > 5 else 0)"
   ]
  },
  {
   "cell_type": "code",
   "execution_count": null,
   "metadata": {
    "colab": {
     "autoexec": {
      "startup": false,
      "wait_interval": 0
     }
    },
    "colab_type": "code",
    "id": "vNotmF72JUtQ"
   },
   "outputs": [],
   "source": [
    "x = 7\n",
    "print (1 if x > 5 else 0)"
   ]
  },
  {
   "cell_type": "markdown",
   "metadata": {
    "colab_type": "text",
    "id": "8lsTkb3SJUtS"
   },
   "source": [
    "Ahora construimos nuestra lista, usando una lista por comprensión y una expresión condicional"
   ]
  },
  {
   "cell_type": "code",
   "execution_count": null,
   "metadata": {
    "colab": {
     "autoexec": {
      "startup": false,
      "wait_interval": 0
     }
    },
    "colab_type": "code",
    "id": "Qg1_BC79JUtT"
   },
   "outputs": [],
   "source": [
    "n = [1, 2, 7, 21, 3, 1, 62, 3, 34, 12, 73, 44, 12, 11, 9]\n",
    "n_max_2 = max(n) / 2"
   ]
  },
  {
   "cell_type": "code",
   "execution_count": null,
   "metadata": {
    "colab": {
     "autoexec": {
      "startup": false,
      "wait_interval": 0
     }
    },
    "colab_type": "code",
    "id": "CrzkHaYQJUtV"
   },
   "outputs": [],
   "source": [
    "n_bin_lc = [1 if x >= n_max_2 else 0 for x in n]"
   ]
  },
  {
   "cell_type": "code",
   "execution_count": null,
   "metadata": {
    "colab": {
     "autoexec": {
      "startup": false,
      "wait_interval": 0
     }
    },
    "colab_type": "code",
    "id": "EDr_tDOuJUtX"
   },
   "outputs": [],
   "source": [
    "n_bin_lc"
   ]
  },
  {
   "cell_type": "markdown",
   "metadata": {
    "colab_type": "text",
    "id": "4MSkZT3tJUta"
   },
   "source": [
    "#### 3- B Filtrar una lista\n",
    "\n",
    "Los condicionales dentro de una lista por comprensión también sirven para filtrar los datos con los que quiero quedarme. En este caso el \"if\" va después del for."
   ]
  },
  {
   "cell_type": "code",
   "execution_count": null,
   "metadata": {
    "colab": {
     "autoexec": {
      "startup": false,
      "wait_interval": 0
     }
    },
    "colab_type": "code",
    "id": "WFRXkiDNJUta"
   },
   "outputs": [],
   "source": [
    "n = [100, 2, 423, 42, 15, 87, 67]"
   ]
  },
  {
   "cell_type": "markdown",
   "metadata": {
    "colab_type": "text",
    "id": "M201MfrYJUtd"
   },
   "source": [
    "Queremos obtener únicamente los elementos que están entre 40 y 70"
   ]
  },
  {
   "cell_type": "code",
   "execution_count": null,
   "metadata": {
    "colab": {
     "autoexec": {
      "startup": false,
      "wait_interval": 0
     }
    },
    "colab_type": "code",
    "id": "RjqBSMKCJUtd"
   },
   "outputs": [],
   "source": [
    "[num for num in n if 70 >= num >= 40]"
   ]
  },
  {
   "cell_type": "markdown",
   "metadata": {
    "colab_type": "text",
    "id": "Hiz0VHZnJUtf"
   },
   "source": [
    "### Funciones en listas por comprensión\n"
   ]
  },
  {
   "cell_type": "markdown",
   "metadata": {
    "colab_type": "text",
    "id": "YdNxUIILJUtg"
   },
   "source": [
    "Podemos realizar operaciones varias listas a la vez. Utilizar las funciones **zip** y **enumerate** junto con listas por comprensión es muy útil. Primero veamos qué hace cada una de estas funciones.\n",
    "\n",
    "**zip** recorre cada elemento de dos listas de manera iterativa al mismo tiempo y combina cada fila de elementos en una tupla:"
   ]
  },
  {
   "cell_type": "code",
   "execution_count": null,
   "metadata": {
    "colab": {
     "autoexec": {
      "startup": false,
      "wait_interval": 0
     }
    },
    "colab_type": "code",
    "id": "A1Q8ixbOJUtg"
   },
   "outputs": [],
   "source": [
    "a = ['a','b','c','d']\n",
    "z = ['z','y','x','w']\n",
    "\n",
    "list(zip(a,z))"
   ]
  },
  {
   "cell_type": "markdown",
   "metadata": {
    "colab_type": "text",
    "id": "jdPgUIRkJUtm"
   },
   "source": [
    "#### 3- C Combinar los elementos de estas dos listas en pares (tuplas), item a item\n",
    "Nota: El output a obtener es [('a', 'z'), ('b', 'y'), ('c', 'x'), ('d', 'w')]"
   ]
  },
  {
   "cell_type": "code",
   "execution_count": null,
   "metadata": {
    "colab": {
     "autoexec": {
      "startup": false,
      "wait_interval": 0
     }
    },
    "colab_type": "code",
    "id": "iWVCcz8XJUtp"
   },
   "outputs": [],
   "source": [
    "zipped_lc = [x for x in zip(a,z)]\n",
    "zipped_lc"
   ]
  },
  {
   "cell_type": "markdown",
   "metadata": {
    "colab_type": "text",
    "id": "Vx6yvHJCJUtv"
   },
   "source": [
    "#### 3- D Crear una lista de pares (indice, valor)\n",
    "\n",
    "Nota: Usando listas por comprensión, claro está :)"
   ]
  },
  {
   "cell_type": "code",
   "execution_count": null,
   "metadata": {
    "colab": {
     "autoexec": {
      "startup": false,
      "wait_interval": 0
     }
    },
    "colab_type": "code",
    "id": "Y0rWGIZyJUtw"
   },
   "outputs": [],
   "source": [
    "a = ['a','b','c','d']"
   ]
  },
  {
   "cell_type": "markdown",
   "metadata": {
    "colab_type": "text",
    "id": "CajGAxdYJUt1"
   },
   "source": [
    "**enumerate** lleva el \"registro\" del índice de cada elemento de la lista:"
   ]
  },
  {
   "cell_type": "code",
   "execution_count": null,
   "metadata": {
    "colab": {
     "autoexec": {
      "startup": false,
      "wait_interval": 0
     }
    },
    "colab_type": "code",
    "id": "f7AssCTJJUt2"
   },
   "outputs": [],
   "source": [
    "enumerated = []\n",
    "for i, a_i in enumerate(a):\n",
    "    enumerated.append((i, a_i))\n",
    "\n",
    "enumerated"
   ]
  },
  {
   "cell_type": "markdown",
   "metadata": {
    "colab_type": "text",
    "id": "U__2yqzIJUt6"
   },
   "source": [
    "Ahora, usando listas por comprensión:"
   ]
  },
  {
   "cell_type": "code",
   "execution_count": null,
   "metadata": {
    "colab": {
     "autoexec": {
      "startup": false,
      "wait_interval": 0
     }
    },
    "colab_type": "code",
    "id": "k-ckTzTTJUt7"
   },
   "outputs": [],
   "source": [
    "enumerated_lc =[x for x in enumerate(a)]\n",
    "enumerated_lc"
   ]
  },
  {
   "cell_type": "markdown",
   "metadata": {},
   "source": [
    "Si queremos que crear listas de lista (en vez que listas de tuplas):"
   ]
  },
  {
   "cell_type": "code",
   "execution_count": null,
   "metadata": {},
   "outputs": [],
   "source": [
    "enumerated2 = []\n",
    "for i, a_i in enumerate(a):\n",
    "    enumerated2.append([i, a_i])\n",
    "\n",
    "enumerated2"
   ]
  },
  {
   "cell_type": "code",
   "execution_count": null,
   "metadata": {},
   "outputs": [],
   "source": [
    "enumerated_lc2 =[[i,ai] for i,ai in enumerate(a)]"
   ]
  },
  {
   "cell_type": "code",
   "execution_count": null,
   "metadata": {},
   "outputs": [],
   "source": [
    "enumerated_lc2"
   ]
  },
  {
   "cell_type": "markdown",
   "metadata": {
    "colab_type": "text",
    "id": "XOcxJN03JUt_"
   },
   "source": [
    "#### 3-E) Para cada elemento de cada lista, calcular la multiplicación del elemento de la primera lista por su índice dividido por el emento de la segunda lista\n",
    "\n",
    "Por ejemplo, dadas estas dos listas:\n",
    "\n",
    "    list_one = [10, 15, 20, 25, 40]\n",
    "    list_two = [1, 2, 3, 4, 5]\n",
    "\n",
    "Retornar:\n",
    "\n",
    "               [0, 7, 13, 18, 32]"
   ]
  },
  {
   "cell_type": "code",
   "execution_count": null,
   "metadata": {
    "colab": {
     "autoexec": {
      "startup": false,
      "wait_interval": 0
     }
    },
    "colab_type": "code",
    "id": "63gUKMOtJUt_"
   },
   "outputs": [],
   "source": [
    "list_one = [10, 15, 20, 25, 40]\n",
    "list_two = [1, 2, 3, 4, 5]"
   ]
  },
  {
   "cell_type": "code",
   "execution_count": null,
   "metadata": {
    "colab": {
     "autoexec": {
      "startup": false,
      "wait_interval": 0
     }
    },
    "colab_type": "code",
    "id": "XGScHGdHJUuC"
   },
   "outputs": [],
   "source": [
    "math_comp = [int((x * i) / y) for i, (x, y) in enumerate(zip(list_one, list_two))]\n",
    "math_comp"
   ]
  },
  {
   "cell_type": "markdown",
   "metadata": {
    "colab_type": "text",
    "id": "_L4d7roDJUuF"
   },
   "source": [
    "### Diccionarios por comprensión"
   ]
  },
  {
   "cell_type": "markdown",
   "metadata": {
    "colab_type": "text",
    "id": "bEIrnWWEJUuG"
   },
   "source": [
    "La comprensión no está limitada a listas. \n",
    "Podemos utilizar la comprensión para crear diccionarios. \n",
    "Más abajo, un ejemplo donde creamos un diccionario donde cada clave es el nombre de una especie animal y su valor es la longitud de ese nombre."
   ]
  },
  {
   "cell_type": "code",
   "execution_count": null,
   "metadata": {
    "colab": {
     "autoexec": {
      "startup": false,
      "wait_interval": 0
     },
     "base_uri": "https://localhost:8080/",
     "height": 34
    },
    "colab_type": "code",
    "executionInfo": {
     "elapsed": 1188,
     "status": "ok",
     "timestamp": 1533760175067,
     "user": {
      "displayName": "Marianela Sarabia",
      "photoUrl": "//lh3.googleusercontent.com/-pUhRk8puFcw/AAAAAAAAAAI/AAAAAAAAAAc/6YeDDbpNWGw/s50-c-k-no/photo.jpg",
      "userId": "111104936532642036132"
     },
     "user_tz": 180
    },
    "id": "kHGSOGmUJUuH",
    "outputId": "b051a4d9-396f-475c-ac84-f747e82356fe"
   },
   "outputs": [],
   "source": [
    "keys = ['dog', 'cat', 'bird', 'horse']\n",
    "dicc = {k:len(k) for k in keys}\n",
    "dicc"
   ]
  },
  {
   "cell_type": "code",
   "execution_count": null,
   "metadata": {
    "colab": {
     "autoexec": {
      "startup": false,
      "wait_interval": 0
     },
     "base_uri": "https://localhost:8080/",
     "height": 34
    },
    "colab_type": "code",
    "executionInfo": {
     "elapsed": 633,
     "status": "ok",
     "timestamp": 1533760244039,
     "user": {
      "displayName": "Marianela Sarabia",
      "photoUrl": "//lh3.googleusercontent.com/-pUhRk8puFcw/AAAAAAAAAAI/AAAAAAAAAAc/6YeDDbpNWGw/s50-c-k-no/photo.jpg",
      "userId": "111104936532642036132"
     },
     "user_tz": 180
    },
    "id": "vw4eGkXfOt_T",
    "outputId": "0b8b0fa4-71e8-443b-b393-0d95b48ffbb6"
   },
   "outputs": [],
   "source": [
    "dicc['bird']"
   ]
  },
  {
   "cell_type": "markdown",
   "metadata": {
    "colab_type": "text",
    "id": "w3X-PrjJJUuJ"
   },
   "source": [
    "##### 3-F) Crear un diccionario que las keys sean los animales y la clave sea el índice de cada letra del nombre del animal en el abecedario\n"
   ]
  },
  {
   "cell_type": "code",
   "execution_count": null,
   "metadata": {
    "colab": {
     "autoexec": {
      "startup": false,
      "wait_interval": 0
     }
    },
    "colab_type": "code",
    "id": "PBMlqH2cJUuJ"
   },
   "outputs": [],
   "source": [
    "def indiceAbecedario(letra):\n",
    "    return ord(letra.lower()) -96"
   ]
  },
  {
   "cell_type": "markdown",
   "metadata": {
    "colab_type": "text",
    "id": "3Rv7mSKEJUuM"
   },
   "source": [
    "La función indiceAbecedario retorna a qué número de letra del abecedeario corresponde la letra pasada como parámetro"
   ]
  },
  {
   "cell_type": "code",
   "execution_count": null,
   "metadata": {
    "colab": {
     "autoexec": {
      "startup": false,
      "wait_interval": 0
     }
    },
    "colab_type": "code",
    "id": "Tx5J1s6fJUuM"
   },
   "outputs": [],
   "source": [
    "indiceAbecedario('b')"
   ]
  },
  {
   "cell_type": "code",
   "execution_count": null,
   "metadata": {
    "colab": {
     "autoexec": {
      "startup": false,
      "wait_interval": 0
     }
    },
    "colab_type": "code",
    "id": "BW3e2u65JUuP"
   },
   "outputs": [],
   "source": [
    "keys = ['dog', 'cat', 'bird', 'horse']\n",
    "dicc = {k:[indiceAbecedario(x) for  x in k] for k in keys}\n",
    "dicc"
   ]
  },
  {
   "cell_type": "markdown",
   "metadata": {
    "colab_type": "text",
    "id": "l6CJxc5aJUuS"
   },
   "source": [
    "#### 3-F Crear un diccionario donde las claves sean los nombres de columna y sus valores correspondientes"
   ]
  },
  {
   "cell_type": "code",
   "execution_count": null,
   "metadata": {
    "colab": {
     "autoexec": {
      "startup": false,
      "wait_interval": 0
     }
    },
    "colab_type": "code",
    "id": "wcrpcQRMJUuT"
   },
   "outputs": [],
   "source": [
    "column_names = ['height','weight','is_male']\n",
    "values = [[62, 54, 60, 50], [180, 120, 200, 100], [True, False, True, False]]"
   ]
  },
  {
   "cell_type": "code",
   "execution_count": null,
   "metadata": {
    "colab": {
     "autoexec": {
      "startup": false,
      "wait_interval": 0
     }
    },
    "colab_type": "code",
    "id": "rEouexq-JUuW"
   },
   "outputs": [],
   "source": [
    "dicc = {k:v for k, v in zip(column_names, values)}\n",
    "dicc"
   ]
  }
 ],
 "metadata": {
  "accelerator": "GPU",
  "colab": {
   "default_view": {},
   "name": "PRACTICA_GUIADA_Python.ipynb",
   "provenance": [
    {
     "file_id": "1bcZ5g8zs2F39Fn94EnH73NA3r04g43e6",
     "timestamp": 1533578600151
    }
   ],
   "version": "0.3.2",
   "views": {}
  },
  "kernelspec": {
   "display_name": "Python 3",
   "language": "python",
   "name": "python3"
  },
  "language_info": {
   "codemirror_mode": {
    "name": "ipython",
    "version": 3
   },
   "file_extension": ".py",
   "mimetype": "text/x-python",
   "name": "python",
   "nbconvert_exporter": "python",
   "pygments_lexer": "ipython3",
   "version": "3.6.5"
  }
 },
 "nbformat": 4,
 "nbformat_minor": 1
}
