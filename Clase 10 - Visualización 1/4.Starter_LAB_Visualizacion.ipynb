{
 "cells": [
  {
   "cell_type": "markdown",
   "metadata": {},
   "source": [
    "# LAB: Visualización\n",
    "\n",
    "## Introducción\n",
    "\n",
    "El objetivo de este LAB es aplicar los conceptos aprendidos de visualización. Observaremos un dataset que contiene información de los resultados de una maratón. La información está desagregada para corredor del maratón.\n",
    "\n",
    "Los campos que contiene son:\n",
    "1. age\n",
    "2. gender\n",
    "3. split: tiempo que tardó en correr la primera mitad de la maratón\n",
    "4. final: tiempo que tardó en correr la maratón completa"
   ]
  },
  {
   "cell_type": "markdown",
   "metadata": {},
   "source": [
    "### 1- Importar \n",
    "Importar el archivo marathon.csv e inspeccionar los primeros casos y los tipos de datos."
   ]
  },
  {
   "cell_type": "code",
   "execution_count": null,
   "metadata": {},
   "outputs": [],
   "source": []
  },
  {
   "cell_type": "code",
   "execution_count": null,
   "metadata": {},
   "outputs": [],
   "source": []
  },
  {
   "cell_type": "markdown",
   "metadata": {},
   "source": [
    "### 2- Trabajar con fechas\n",
    "Importar el archivo marathon.csv e inspeccionar los primeros casos.\n",
    "Aplicar la siguiente función a los campos que correspondan para trabajar con \"TimeDeltas\"\n",
    "\n",
    "```(python)\n",
    "def convert_time(s):\n",
    "        h, m, s = map(int, s.split(':'))\n",
    "        return pd.Timedelta(hours=h, minutes=m, seconds=s)```"
   ]
  },
  {
   "cell_type": "code",
   "execution_count": null,
   "metadata": {},
   "outputs": [],
   "source": []
  },
  {
   "cell_type": "code",
   "execution_count": null,
   "metadata": {},
   "outputs": [],
   "source": []
  },
  {
   "cell_type": "code",
   "execution_count": null,
   "metadata": {},
   "outputs": [],
   "source": []
  },
  {
   "cell_type": "code",
   "execution_count": null,
   "metadata": {},
   "outputs": [],
   "source": []
  },
  {
   "cell_type": "markdown",
   "metadata": {},
   "source": [
    "Al castear timedeltas como enteros, nos devuelven un valor expresado en nanosegundos, la mínima unidad que se encuentra representada en un timedelta.\n",
    "\n",
    "Intentemos ahora crear columnas con los segundos que tardo cada corredor en el split y en el final."
   ]
  },
  {
   "cell_type": "code",
   "execution_count": null,
   "metadata": {},
   "outputs": [],
   "source": []
  },
  {
   "cell_type": "markdown",
   "metadata": {},
   "source": [
    "### 3 - Graficar\n",
    "\n",
    "Veamos la relación entre splt_sec y final_sec con un jointplot"
   ]
  },
  {
   "cell_type": "code",
   "execution_count": null,
   "metadata": {},
   "outputs": [],
   "source": []
  },
  {
   "cell_type": "markdown",
   "metadata": {},
   "source": [
    "### 4 - Caracterizar corredores\n",
    "\n",
    "Los corredores se dividen en dos: los que corren más rápido la primera mitad que la segunda y viceversa. \n",
    "\n",
    "Crear una nueva columna para visualizar esta relación:\n",
    "data['split_frac'] = 1 - 2 * data['split_sec'] / data['final_sec']\n",
    "\n",
    "Visualizar la distribución de esta nueva variable, dibujando una línea en el eje vertical que separe los valores menores y mayores que cero.\n"
   ]
  },
  {
   "cell_type": "code",
   "execution_count": null,
   "metadata": {},
   "outputs": [],
   "source": []
  },
  {
   "cell_type": "markdown",
   "metadata": {},
   "source": [
    "¿Cuántos corredores fueron más lento en la primera mitad?"
   ]
  },
  {
   "cell_type": "code",
   "execution_count": null,
   "metadata": {},
   "outputs": [],
   "source": []
  },
  {
   "cell_type": "markdown",
   "metadata": {
    "collapsed": true
   },
   "source": [
    "* Veamos ahora si existe alguna correlación entre esta variable y todas las otras:"
   ]
  },
  {
   "cell_type": "code",
   "execution_count": null,
   "metadata": {},
   "outputs": [],
   "source": []
  },
  {
   "cell_type": "markdown",
   "metadata": {},
   "source": [
    "* Veamos ahora un histograma de las fracciones de split entre hombres y mujeres Let's look at the histogram of split fractions for these two groups:"
   ]
  },
  {
   "cell_type": "code",
   "execution_count": null,
   "metadata": {},
   "outputs": [],
   "source": []
  },
  {
   "cell_type": "markdown",
   "metadata": {},
   "source": [
    "* También podríamos comparar ambas distribuciones usando un boxplot o un violinplot"
   ]
  },
  {
   "cell_type": "code",
   "execution_count": null,
   "metadata": {},
   "outputs": [],
   "source": []
  },
  {
   "cell_type": "markdown",
   "metadata": {},
   "source": [
    "* Generemos, ahora, este tipo de plots pero como función de la edad.\n",
    "* Comencemos por crear una nueva columna en el array que especifique la década de edad de la persona (lo que están en \"los '30\", en \"los '40\", etc.)"
   ]
  },
  {
   "cell_type": "code",
   "execution_count": null,
   "metadata": {},
   "outputs": [],
   "source": []
  },
  {
   "cell_type": "code",
   "execution_count": null,
   "metadata": {},
   "outputs": [],
   "source": []
  },
  {
   "cell_type": "markdown",
   "metadata": {},
   "source": [
    "* ¿Hay correlación con el \"split\" y con el hecho de haber terminado más rápido la carrera? "
   ]
  },
  {
   "cell_type": "code",
   "execution_count": null,
   "metadata": {},
   "outputs": [],
   "source": []
  },
  {
   "cell_type": "code",
   "execution_count": null,
   "metadata": {},
   "outputs": [],
   "source": []
  }
 ],
 "metadata": {
  "kernelspec": {
   "display_name": "Python 3",
   "language": "python",
   "name": "python3"
  },
  "language_info": {
   "codemirror_mode": {
    "name": "ipython",
    "version": 3
   },
   "file_extension": ".py",
   "mimetype": "text/x-python",
   "name": "python",
   "nbconvert_exporter": "python",
   "pygments_lexer": "ipython3",
   "version": "3.6.5"
  }
 },
 "nbformat": 4,
 "nbformat_minor": 2
}
