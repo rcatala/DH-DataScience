{
 "cells": [
  {
   "cell_type": "code",
   "execution_count": null,
   "metadata": {},
   "outputs": [],
   "source": [
    "import numpy as np\n",
    "import pandas as pd"
   ]
  },
  {
   "cell_type": "code",
   "execution_count": 2,
   "metadata": {},
   "outputs": [],
   "source": [
    "data = pd.read_csv('../Data/populations.txt',sep='\\t')"
   ]
  },
  {
   "cell_type": "code",
   "execution_count": 3,
   "metadata": {},
   "outputs": [
    {
     "data": {
      "text/html": [
       "<div>\n",
       "<style scoped>\n",
       "    .dataframe tbody tr th:only-of-type {\n",
       "        vertical-align: middle;\n",
       "    }\n",
       "\n",
       "    .dataframe tbody tr th {\n",
       "        vertical-align: top;\n",
       "    }\n",
       "\n",
       "    .dataframe thead th {\n",
       "        text-align: right;\n",
       "    }\n",
       "</style>\n",
       "<table border=\"1\" class=\"dataframe\">\n",
       "  <thead>\n",
       "    <tr style=\"text-align: right;\">\n",
       "      <th></th>\n",
       "      <th># year</th>\n",
       "      <th>hare</th>\n",
       "      <th>lynx</th>\n",
       "      <th>carrot</th>\n",
       "    </tr>\n",
       "  </thead>\n",
       "  <tbody>\n",
       "    <tr>\n",
       "      <th>0</th>\n",
       "      <td>1900</td>\n",
       "      <td>30000.0</td>\n",
       "      <td>4000.0</td>\n",
       "      <td>48300</td>\n",
       "    </tr>\n",
       "    <tr>\n",
       "      <th>1</th>\n",
       "      <td>1901</td>\n",
       "      <td>47200.0</td>\n",
       "      <td>6100.0</td>\n",
       "      <td>48200</td>\n",
       "    </tr>\n",
       "    <tr>\n",
       "      <th>2</th>\n",
       "      <td>1902</td>\n",
       "      <td>70200.0</td>\n",
       "      <td>9800.0</td>\n",
       "      <td>41500</td>\n",
       "    </tr>\n",
       "    <tr>\n",
       "      <th>3</th>\n",
       "      <td>1903</td>\n",
       "      <td>77400.0</td>\n",
       "      <td>35200.0</td>\n",
       "      <td>38200</td>\n",
       "    </tr>\n",
       "    <tr>\n",
       "      <th>4</th>\n",
       "      <td>1904</td>\n",
       "      <td>36300.0</td>\n",
       "      <td>59400.0</td>\n",
       "      <td>40600</td>\n",
       "    </tr>\n",
       "    <tr>\n",
       "      <th>5</th>\n",
       "      <td>1905</td>\n",
       "      <td>20600.0</td>\n",
       "      <td>41700.0</td>\n",
       "      <td>39800</td>\n",
       "    </tr>\n",
       "    <tr>\n",
       "      <th>6</th>\n",
       "      <td>1906</td>\n",
       "      <td>18100.0</td>\n",
       "      <td>19000.0</td>\n",
       "      <td>38600</td>\n",
       "    </tr>\n",
       "    <tr>\n",
       "      <th>7</th>\n",
       "      <td>1907</td>\n",
       "      <td>21400.0</td>\n",
       "      <td>13000.0</td>\n",
       "      <td>42300</td>\n",
       "    </tr>\n",
       "    <tr>\n",
       "      <th>8</th>\n",
       "      <td>1908</td>\n",
       "      <td>22000.0</td>\n",
       "      <td>8300.0</td>\n",
       "      <td>44500</td>\n",
       "    </tr>\n",
       "    <tr>\n",
       "      <th>9</th>\n",
       "      <td>1909</td>\n",
       "      <td>25400.0</td>\n",
       "      <td>9100.0</td>\n",
       "      <td>42100</td>\n",
       "    </tr>\n",
       "    <tr>\n",
       "      <th>10</th>\n",
       "      <td>1910</td>\n",
       "      <td>27100.0</td>\n",
       "      <td>7400.0</td>\n",
       "      <td>46000</td>\n",
       "    </tr>\n",
       "    <tr>\n",
       "      <th>11</th>\n",
       "      <td>1911</td>\n",
       "      <td>40300.0</td>\n",
       "      <td>8000.0</td>\n",
       "      <td>46800</td>\n",
       "    </tr>\n",
       "    <tr>\n",
       "      <th>12</th>\n",
       "      <td>1912</td>\n",
       "      <td>57000.0</td>\n",
       "      <td>12300.0</td>\n",
       "      <td>43800</td>\n",
       "    </tr>\n",
       "    <tr>\n",
       "      <th>13</th>\n",
       "      <td>1913</td>\n",
       "      <td>76600.0</td>\n",
       "      <td>19500.0</td>\n",
       "      <td>40900</td>\n",
       "    </tr>\n",
       "    <tr>\n",
       "      <th>14</th>\n",
       "      <td>1914</td>\n",
       "      <td>52300.0</td>\n",
       "      <td>45700.0</td>\n",
       "      <td>39400</td>\n",
       "    </tr>\n",
       "    <tr>\n",
       "      <th>15</th>\n",
       "      <td>1915</td>\n",
       "      <td>19500.0</td>\n",
       "      <td>51100.0</td>\n",
       "      <td>39000</td>\n",
       "    </tr>\n",
       "    <tr>\n",
       "      <th>16</th>\n",
       "      <td>1916</td>\n",
       "      <td>11200.0</td>\n",
       "      <td>29700.0</td>\n",
       "      <td>36700</td>\n",
       "    </tr>\n",
       "    <tr>\n",
       "      <th>17</th>\n",
       "      <td>1917</td>\n",
       "      <td>7600.0</td>\n",
       "      <td>15800.0</td>\n",
       "      <td>41800</td>\n",
       "    </tr>\n",
       "    <tr>\n",
       "      <th>18</th>\n",
       "      <td>1918</td>\n",
       "      <td>14600.0</td>\n",
       "      <td>9700.0</td>\n",
       "      <td>43300</td>\n",
       "    </tr>\n",
       "    <tr>\n",
       "      <th>19</th>\n",
       "      <td>1919</td>\n",
       "      <td>16200.0</td>\n",
       "      <td>10100.0</td>\n",
       "      <td>41300</td>\n",
       "    </tr>\n",
       "    <tr>\n",
       "      <th>20</th>\n",
       "      <td>1920</td>\n",
       "      <td>24700.0</td>\n",
       "      <td>8600.0</td>\n",
       "      <td>47300</td>\n",
       "    </tr>\n",
       "  </tbody>\n",
       "</table>\n",
       "</div>"
      ],
      "text/plain": [
       "    # year     hare     lynx  carrot\n",
       "0     1900  30000.0   4000.0   48300\n",
       "1     1901  47200.0   6100.0   48200\n",
       "2     1902  70200.0   9800.0   41500\n",
       "3     1903  77400.0  35200.0   38200\n",
       "4     1904  36300.0  59400.0   40600\n",
       "5     1905  20600.0  41700.0   39800\n",
       "6     1906  18100.0  19000.0   38600\n",
       "7     1907  21400.0  13000.0   42300\n",
       "8     1908  22000.0   8300.0   44500\n",
       "9     1909  25400.0   9100.0   42100\n",
       "10    1910  27100.0   7400.0   46000\n",
       "11    1911  40300.0   8000.0   46800\n",
       "12    1912  57000.0  12300.0   43800\n",
       "13    1913  76600.0  19500.0   40900\n",
       "14    1914  52300.0  45700.0   39400\n",
       "15    1915  19500.0  51100.0   39000\n",
       "16    1916  11200.0  29700.0   36700\n",
       "17    1917   7600.0  15800.0   41800\n",
       "18    1918  14600.0   9700.0   43300\n",
       "19    1919  16200.0  10100.0   41300\n",
       "20    1920  24700.0   8600.0   47300"
      ]
     },
     "execution_count": 3,
     "metadata": {},
     "output_type": "execute_result"
    }
   ],
   "source": [
    "# Veamos las poblaciones por año de cada especie\n",
    "data"
   ]
  },
  {
   "cell_type": "code",
   "execution_count": 4,
   "metadata": {},
   "outputs": [
    {
     "data": {
      "text/plain": [
       "numpy.ndarray"
      ]
     },
     "execution_count": 4,
     "metadata": {},
     "output_type": "execute_result"
    }
   ],
   "source": [
    "# Pasamos todas las columnas a Numpy Arrays\n",
    "year = data[\"# year\"].values\n",
    "type(year)"
   ]
  },
  {
   "cell_type": "code",
   "execution_count": 5,
   "metadata": {},
   "outputs": [],
   "source": [
    "hares = data[\"hare\"].values"
   ]
  },
  {
   "cell_type": "code",
   "execution_count": 6,
   "metadata": {},
   "outputs": [],
   "source": [
    "lynxes = data[\"lynx\"].values "
   ]
  },
  {
   "cell_type": "code",
   "execution_count": 7,
   "metadata": {},
   "outputs": [],
   "source": [
    "carrots = data[\"carrot\"].values "
   ]
  },
  {
   "cell_type": "code",
   "execution_count": 8,
   "metadata": {},
   "outputs": [],
   "source": [
    "%matplotlib inline\n",
    "import matplotlib.pyplot as plt"
   ]
  },
  {
   "cell_type": "code",
   "execution_count": 9,
   "metadata": {},
   "outputs": [
    {
     "data": {
      "image/png": "[encoded data removed]",
      "text/plain": [
       "<Figure size 432x288 with 1 Axes>"
      ]
     },
     "metadata": {},
     "output_type": "display_data"
    }
   ],
   "source": [
    "plt.plot(year, hares, year, lynxes, year, carrots) \n",
    "plt.legend(('Conejos (hares)', 'Linces (lynxes)', 'Zanahorias (carrots)'), loc=(1.05, 0.5)) \n",
    "plt.show()"
   ]
  },
  {
   "cell_type": "markdown",
   "metadata": {},
   "source": [
    "## Estadística descriptiva\n",
    "\n",
    "Para cada variable de la serie histórica, calculamos la media y el desvío. Redondeamos los valores para que tengan sólo 2 decimales."
   ]
  },
  {
   "cell_type": "code",
   "execution_count": 10,
   "metadata": {},
   "outputs": [
    {
     "data": {
      "text/plain": [
       "array([[30000.,  4000., 48300.],\n",
       "       [47200.,  6100., 48200.],\n",
       "       [70200.,  9800., 41500.],\n",
       "       [77400., 35200., 38200.],\n",
       "       [36300., 59400., 40600.]])"
      ]
     },
     "execution_count": 10,
     "metadata": {},
     "output_type": "execute_result"
    }
   ],
   "source": [
    "# Con el método iloc, podemos hacer slicing de un dataframe de pandas \n",
    "# con las mismas reglas de slicing que usamos en los arrays de Numpy.\n",
    "\n",
    "# Vamos a descartar la columna de años y a obtener\n",
    "# un array usando la propiedad \"values\"\n",
    "poblaciones = data.iloc[:, 1:].values\n",
    "\n",
    "# Veamos una muestra del resultado.\n",
    "poblaciones[0:5,:]"
   ]
  },
  {
   "cell_type": "code",
   "execution_count": 11,
   "metadata": {},
   "outputs": [
    {
     "name": "stdout",
     "output_type": "stream",
     "text": [
      "        Conejos, Linces, Zanahorias\n",
      "Mean: [34080.95 20166.67 42400.  ]\n",
      "Std: [20897.91 16254.59  3322.51]\n"
     ]
    }
   ],
   "source": [
    "# Las funciones mean y std reciben como parámetro axis = 0.\n",
    "# En cada caso colapsan el eje de filas, quedándose con una única fila\n",
    "# con la media y el desvío estándar de cada columna, respectivamente.\n",
    "\n",
    "print (\"        Conejos, Linces, Zanahorias\")\n",
    "print (\"Mean:\", np.around(poblaciones.mean(axis=0), decimals=2))\n",
    "print (\"Std:\", np.around(poblaciones.std(axis=0), decimals=2))"
   ]
  },
  {
   "cell_type": "markdown",
   "metadata": {},
   "source": [
    "A continuación, calculamos para cada especie el año en el que tuvieron más población. Vamos a identificar los máximos que se ven en el gráfico:"
   ]
  },
  {
   "cell_type": "code",
   "execution_count": 12,
   "metadata": {},
   "outputs": [
    {
     "name": "stdout",
     "output_type": "stream",
     "text": [
      "                          Conejos, Linces, Zanahorias\n",
      "Años de máxima población: [1903 1904 1900]\n"
     ]
    }
   ],
   "source": [
    "# El método \"argmax\" devuelve los índice de filas \n",
    "# donde se encuentran los valores máximos de cada columna\n",
    "# (recordemos que axis=0 reduce la dimensión de las filas)\n",
    "j_max_years = np.argmax(poblaciones, axis=0)\n",
    "\n",
    "# Fancy Indexing\n",
    "print (\"                          Conejos, Linces, Zanahorias\")\n",
    "print (\"Años de máxima población:\", year[j_max_years])"
   ]
  },
  {
   "cell_type": "markdown",
   "metadata": {},
   "source": [
    "De forma similar podemos ver la especie con mayor población en cada año:"
   ]
  },
  {
   "cell_type": "code",
   "execution_count": 13,
   "metadata": {},
   "outputs": [
    {
     "name": "stdout",
     "output_type": "stream",
     "text": [
      "Especies con máxima población:\n",
      "[['1900' '1901' '1902' '1903' '1904' '1905' '1906' '1907' '1908' '1909'\n",
      "  '1910' '1911' '1912' '1913' '1914' '1915' '1916' '1917' '1918' '1919'\n",
      "  '1920']\n",
      " ['Zanahorias' 'Zanahorias' 'Conejos' 'Conejos' 'Linces' 'Linces'\n",
      "  'Zanahorias' 'Zanahorias' 'Zanahorias' 'Zanahorias' 'Zanahorias'\n",
      "  'Zanahorias' 'Conejos' 'Conejos' 'Conejos' 'Linces' 'Zanahorias'\n",
      "  'Zanahorias' 'Zanahorias' 'Zanahorias' 'Zanahorias']]\n"
     ]
    }
   ],
   "source": [
    "# Al recibir axis = 1 reduce el eje de las columnas. \n",
    "# Esto significa que calcula el máximo para cada fila.\n",
    "max_species = np.argmax(poblaciones, axis=1)\n",
    "species = np.array(['Conejos', 'Linces', 'Zanahorias'])\n",
    "\n",
    "# Combino los dos vectores en un array de una dimensión más.\n",
    "resultado = np.array([year, species[max_species]])\n",
    "print (\"Especies con máxima población:\")\n",
    "print (resultado)"
   ]
  },
  {
   "cell_type": "code",
   "execution_count": 14,
   "metadata": {},
   "outputs": [
    {
     "data": {
      "text/plain": [
       "[(1900, 'Zanahorias'),\n",
       " (1901, 'Zanahorias'),\n",
       " (1902, 'Conejos'),\n",
       " (1903, 'Conejos'),\n",
       " (1904, 'Linces'),\n",
       " (1905, 'Linces'),\n",
       " (1906, 'Zanahorias'),\n",
       " (1907, 'Zanahorias'),\n",
       " (1908, 'Zanahorias'),\n",
       " (1909, 'Zanahorias'),\n",
       " (1910, 'Zanahorias'),\n",
       " (1911, 'Zanahorias'),\n",
       " (1912, 'Conejos'),\n",
       " (1913, 'Conejos'),\n",
       " (1914, 'Conejos'),\n",
       " (1915, 'Linces'),\n",
       " (1916, 'Zanahorias'),\n",
       " (1917, 'Zanahorias'),\n",
       " (1918, 'Zanahorias'),\n",
       " (1919, 'Zanahorias'),\n",
       " (1920, 'Zanahorias')]"
      ]
     },
     "execution_count": 14,
     "metadata": {},
     "output_type": "execute_result"
    }
   ],
   "source": [
    "resultado = [r for r in zip(year, species[max_species])]\n",
    "resultado"
   ]
  },
  {
   "cell_type": "markdown",
   "metadata": {},
   "source": [
    "A continuación queremos ver en qué años alguna de las poblaciones se encuentra por encima de 50000"
   ]
  },
  {
   "cell_type": "code",
   "execution_count": 15,
   "metadata": {},
   "outputs": [
    {
     "name": "stdout",
     "output_type": "stream",
     "text": [
      "Alguna población es mayor que 50000: [1902 1903 1904 1912 1913 1914 1915]\n"
     ]
    }
   ],
   "source": [
    "# La función de reducción de dimensiones np.any reduce el eje de las columnas indicando para cada fila si alguno de los \n",
    "# elementos de las columnas cumple con la condición de ser mayor a 50000\n",
    "mayores_50000 = np.any(poblaciones > 50000, axis=1)\n",
    "print (\"Alguna población es mayor que 50000:\", year[mayores_50000])"
   ]
  },
  {
   "cell_type": "markdown",
   "metadata": {},
   "source": [
    "También podemos consultar en qué dos años, cada especie tuvo sus niveles más bajos de población."
   ]
  },
  {
   "cell_type": "code",
   "execution_count": 16,
   "metadata": {},
   "outputs": [
    {
     "name": "stdout",
     "output_type": "stream",
     "text": [
      "Dos años de menor población por especie:\n",
      "['Conejos', 'Linces', 'Zanahorias']\n",
      "[[1917 1900 1916]\n",
      " [1916 1901 1903]]\n"
     ]
    }
   ],
   "source": [
    "# primero selecciono los dos primeros índices ordenando por columna\n",
    "j_top_2 = np.argsort(poblaciones, axis=0)[:2]\n",
    "print (\"Dos años de menor población por especie:\")\n",
    "print(['Conejos', 'Linces', 'Zanahorias'])\n",
    "print (year[j_top_2])"
   ]
  },
  {
   "cell_type": "markdown",
   "metadata": {},
   "source": [
    "También podemos analizar la matriz de covarianzas entre las distintas especies:"
   ]
  },
  {
   "cell_type": "code",
   "execution_count": 17,
   "metadata": {},
   "outputs": [
    {
     "data": {
      "text/plain": [
       "array([[ 4.58558619e+08,  2.56418333e+07, -1.21050000e+06],\n",
       "       [ 2.56418333e+07,  2.77422333e+08, -3.85930000e+07],\n",
       "       [-1.21050000e+06, -3.85930000e+07,  1.15910000e+07]])"
      ]
     },
     "execution_count": 17,
     "metadata": {},
     "output_type": "execute_result"
    }
   ],
   "source": [
    "np.cov([hares, lynxes, carrots])"
   ]
  },
  {
   "cell_type": "markdown",
   "metadata": {},
   "source": [
    "* ¿Puedo comparar las distintas varianzas? ¿Por qué?\n",
    "* ¿Qué variable tiene la mayor varianza? ¿Cómo se ve esto en el gráfico?\n",
    "* ¿Qué significa una covarianza positiva? ¿Y una negativa?"
   ]
  },
  {
   "cell_type": "code",
   "execution_count": 18,
   "metadata": {},
   "outputs": [
    {
     "data": {
      "text/plain": [
       "array([[ 1.        ,  0.07189206, -0.01660378],\n",
       "       [ 0.07189206,  1.        , -0.68057717],\n",
       "       [-0.01660378, -0.68057717,  1.        ]])"
      ]
     },
     "execution_count": 18,
     "metadata": {},
     "output_type": "execute_result"
    }
   ],
   "source": [
    "np.corrcoef([hares, lynxes, carrots])"
   ]
  },
  {
   "cell_type": "markdown",
   "metadata": {},
   "source": [
    "* ¿Cómo es el signo de la correlación con respecto al de la covarianza?\n",
    "* ¿En qué unidades físicas está la correlación? ¿Y la covarianza?\n",
    "* ¿Cuáles son las especies que están más correlacionadas? ¿Cómo se ve esto en el gráfico?"
   ]
  },
  {
   "cell_type": "code",
   "execution_count": null,
   "metadata": {},
   "outputs": [],
   "source": []
  }
 ],
 "metadata": {
  "kernelspec": {
   "display_name": "Python 3",
   "language": "python",
   "name": "python3"
  },
  "language_info": {
   "codemirror_mode": {
    "name": "ipython",
    "version": 3
   },
   "file_extension": ".py",
   "mimetype": "text/x-python",
   "name": "python",
   "nbconvert_exporter": "python",
   "pygments_lexer": "ipython3",
   "version": "3.6.5"
  }
 },
 "nbformat": 4,
 "nbformat_minor": 2
}
