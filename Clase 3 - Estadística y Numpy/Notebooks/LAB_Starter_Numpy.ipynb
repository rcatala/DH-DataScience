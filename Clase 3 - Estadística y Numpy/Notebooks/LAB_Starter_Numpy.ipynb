{
 "cells": [
  {
   "cell_type": "markdown",
   "metadata": {},
   "source": [
    "## Lab: Datasets & NumPy - csv's, funciones, numpy y distribuciones\n",
    "\n",
    "Ejecuta la celda de abajo para cargar los paquetes requeridos"
   ]
  },
  {
   "cell_type": "code",
   "execution_count": 2,
   "metadata": {},
   "outputs": [],
   "source": [
    "import numpy as np\n",
    "import scipy.stats as stats\n",
    "import csv\n",
    "import seaborn as sns\n",
    "import pandas as pd\n",
    "%matplotlib inline"
   ]
  },
  {
   "cell_type": "markdown",
   "metadata": {},
   "source": [
    "### Datos de ventas\n",
    "\n",
    "Para este Lab vamos a usar una versión resumida de un dataset que contiente información sobre ventas de establecimientos económicos que analizaremos en detalle más adelante.\n",
    "\n",
    "El csv tiene alrededor de 200 filas de datos y 4 columnas. El path especificado del csv ```sales_info.csv``` asume que se encuentra en el mismo directorio que la presente notebook. En caso que lo hayas descargado en otro directorio deberás hacer referencia de manera relativa o absoluta (googlear linux path examples relative / absolute)."
   ]
  },
  {
   "cell_type": "markdown",
   "metadata": {},
   "source": [
    "#### 1. Carga de datos\n",
    "\n",
    "Utilizar el método ```read_csv``` de la librería Pandas para crear un dataframe a partir del archivo."
   ]
  },
  {
   "cell_type": "code",
   "execution_count": 3,
   "metadata": {},
   "outputs": [],
   "source": [
    "sales = pd.read_csv('../Data/sales_info.csv')"
   ]
  },
  {
   "cell_type": "code",
   "execution_count": 4,
   "metadata": {},
   "outputs": [
    {
     "data": {
      "text/html": [
       "<div>\n",
       "<style scoped>\n",
       "    .dataframe tbody tr th:only-of-type {\n",
       "        vertical-align: middle;\n",
       "    }\n",
       "\n",
       "    .dataframe tbody tr th {\n",
       "        vertical-align: top;\n",
       "    }\n",
       "\n",
       "    .dataframe thead th {\n",
       "        text-align: right;\n",
       "    }\n",
       "</style>\n",
       "<table border=\"1\" class=\"dataframe\">\n",
       "  <thead>\n",
       "    <tr style=\"text-align: right;\">\n",
       "      <th></th>\n",
       "      <th>volume_sold</th>\n",
       "      <th>2015_margin</th>\n",
       "      <th>2015_q1_sales</th>\n",
       "      <th>2016_q1_sales</th>\n",
       "    </tr>\n",
       "  </thead>\n",
       "  <tbody>\n",
       "    <tr>\n",
       "      <th>0</th>\n",
       "      <td>18.420760</td>\n",
       "      <td>93.802281</td>\n",
       "      <td>337166.53</td>\n",
       "      <td>337804.05</td>\n",
       "    </tr>\n",
       "    <tr>\n",
       "      <th>1</th>\n",
       "      <td>4.776510</td>\n",
       "      <td>21.082425</td>\n",
       "      <td>22351.86</td>\n",
       "      <td>21736.63</td>\n",
       "    </tr>\n",
       "    <tr>\n",
       "      <th>2</th>\n",
       "      <td>16.602401</td>\n",
       "      <td>93.612494</td>\n",
       "      <td>277764.46</td>\n",
       "      <td>306942.27</td>\n",
       "    </tr>\n",
       "    <tr>\n",
       "      <th>3</th>\n",
       "      <td>4.296111</td>\n",
       "      <td>16.824704</td>\n",
       "      <td>16805.11</td>\n",
       "      <td>9307.75</td>\n",
       "    </tr>\n",
       "    <tr>\n",
       "      <th>4</th>\n",
       "      <td>8.156023</td>\n",
       "      <td>35.011457</td>\n",
       "      <td>54411.42</td>\n",
       "      <td>58939.90</td>\n",
       "    </tr>\n",
       "  </tbody>\n",
       "</table>\n",
       "</div>"
      ],
      "text/plain": [
       "   volume_sold  2015_margin  2015_q1_sales  2016_q1_sales\n",
       "0    18.420760    93.802281      337166.53      337804.05\n",
       "1     4.776510    21.082425       22351.86       21736.63\n",
       "2    16.602401    93.612494      277764.46      306942.27\n",
       "3     4.296111    16.824704       16805.11        9307.75\n",
       "4     8.156023    35.011457       54411.42       58939.90"
      ]
     },
     "execution_count": 4,
     "metadata": {},
     "output_type": "execute_result"
    }
   ],
   "source": [
    "sales.head()"
   ]
  },
  {
   "cell_type": "markdown",
   "metadata": {},
   "source": [
    "#### 2. Transformar la serie en un array de numpy\n",
    "\n",
    "Utilizar el método ```np.array()``` transformar la serie \"volume_sold\" del dataframe generado en un array de numpy"
   ]
  },
  {
   "cell_type": "code",
   "execution_count": 5,
   "metadata": {},
   "outputs": [],
   "source": [
    "volume_sold = np.array(sales[\"volume_sold\"])"
   ]
  },
  {
   "cell_type": "code",
   "execution_count": 6,
   "metadata": {},
   "outputs": [
    {
     "data": {
      "text/plain": [
       "array([18.42076049,  4.77650992, 16.60240061,  4.2961115 ,  8.15602328,\n",
       "        5.00512243, 14.60675   ,  4.45646649,  5.04752965,  5.38807024,\n",
       "        9.34734863, 10.93039773,  6.2702086 , 12.39591912,  4.5577119 ,\n",
       "        4.20012243, 10.25286989, 12.07678476,  3.72509524,  3.21072663,\n",
       "        6.29097143,  7.43482132,  4.37622478, 12.98891278, 11.69745575,\n",
       "        5.96517513,  3.94522273,  7.36958531,  7.34350883, 12.35002735,\n",
       "        8.41791968, 10.26083617,  7.8243537 , 10.33143005, 12.5284878 ,\n",
       "       18.74475053,  6.65773264, 10.63212894,  6.92770423,  6.61817422,\n",
       "        7.12444444,  9.84966032, 11.50583776,  6.30981315, 10.18662198,\n",
       "       10.12217933, 10.8003469 ,  7.26782845, 10.67371667,  9.15026866,\n",
       "        8.12418188,  6.2757997 , 10.67729533,  5.88898829, 10.64017145,\n",
       "        4.75559643, 10.24688407, 10.29268081,  4.41819549,  7.10134735,\n",
       "        8.00611902,  7.79050338, 11.12938226,  9.34847654,  6.31088644,\n",
       "       11.62560606,  6.65440718,  7.93041477,  9.00356232, 14.43943538,\n",
       "       11.01154049,  5.72389564,  7.77732012,  4.75918373,  7.78586692,\n",
       "        5.03499141, 11.68450984,  5.1477291 , 10.08603038,  7.94465682,\n",
       "        5.29439979, 11.8265363 ,  6.30092587,  8.64269488,  6.04822839,\n",
       "        9.47492914,  3.99185767,  8.59207381,  7.21148957,  8.19108557,\n",
       "        7.6953116 , 13.63515001,  6.96681682, 11.23232377,  5.09546375,\n",
       "       11.93688366,  5.90627376,  9.12709469,  7.75445727,  7.58599675,\n",
       "        7.43725208,  9.87989008,  9.30319389,  9.21365051,  5.18177205,\n",
       "        8.55507775,  5.7812659 ,  8.07102301, 10.12500327, 11.01965167,\n",
       "        8.17666775,  9.42171292,  4.85870922,  9.31378526,  8.30018037,\n",
       "        6.50688777,  9.58520997, 12.45572275,  8.09288313,  8.68651838,\n",
       "        8.34731753,  9.29224056,  9.77711182, 29.87803004,  8.78393692,\n",
       "       11.97576852, 11.14010214,  7.56054882,  7.39098799,  6.43360589,\n",
       "       13.79997745,  6.44703955,  8.01794478,  6.25535543,  9.69742182,\n",
       "        7.77268351,  8.75192031,  6.79288938,  7.68249438,  4.38545512,\n",
       "        3.6067102 ,  8.45364706,  5.21488186,  8.4005615 ,  6.84136328,\n",
       "       12.50996726,  9.01487006,  7.20036425,  5.77809677,  4.94129393,\n",
       "        6.0004507 , 11.99711748, 10.63776912,  8.5642281 ,  8.62268641,\n",
       "        4.83114713, 10.2701849 , 12.58169456, 16.05997067, 11.86773859,\n",
       "       10.29450113,  4.17606557,  9.36189873, 11.09170854,  5.32449664,\n",
       "        6.63090439,  8.58392405,  5.53106109,  6.1391231 ,  8.47737603,\n",
       "        8.44393241,  5.15196394,  6.53706865,  8.50044524,  3.93154327,\n",
       "        6.16368914,  4.90444712,  7.40241271, 47.50326923, 55.73918009,\n",
       "       11.84078032,  7.00229358,  8.75314207,  3.1477413 ,  7.19677879,\n",
       "       76.20369181, 10.80433711, 10.70532705, 51.80068627,  5.88277872,\n",
       "        6.68640645,  5.83335488, 45.55609564,  5.17260575, 10.11801802,\n",
       "       51.67553742,  2.7946315 ,  7.6116978 , 15.69765127, 50.27589322])"
      ]
     },
     "execution_count": 6,
     "metadata": {},
     "output_type": "execute_result"
    }
   ],
   "source": [
    "volume_sold "
   ]
  },
  {
   "cell_type": "markdown",
   "metadata": {},
   "source": [
    "##### 3. Imprimir los 10 primeros items de la columna 'volume_sold' utilizando \"array slicing\"."
   ]
  },
  {
   "cell_type": "code",
   "execution_count": 7,
   "metadata": {},
   "outputs": [
    {
     "data": {
      "text/plain": [
       "array([18.42076049,  4.77650992, 16.60240061,  4.2961115 ,  8.15602328,\n",
       "        5.00512243, 14.60675   ,  4.45646649,  5.04752965,  5.38807024])"
      ]
     },
     "execution_count": 7,
     "metadata": {},
     "output_type": "execute_result"
    }
   ],
   "source": [
    "volume_sold[0:10]"
   ]
  },
  {
   "cell_type": "markdown",
   "metadata": {},
   "source": [
    "#### 4.  Imprimir el tipo de dato del array\n",
    "\n",
    "Utilizar la propiedad de los arrays dtype para conocer el tipo de dato del array"
   ]
  },
  {
   "cell_type": "code",
   "execution_count": 8,
   "metadata": {},
   "outputs": [
    {
     "data": {
      "text/plain": [
       "dtype('float64')"
      ]
     },
     "execution_count": 8,
     "metadata": {},
     "output_type": "execute_result"
    }
   ],
   "source": [
    "volume_sold.dtype"
   ]
  },
  {
   "cell_type": "markdown",
   "metadata": {},
   "source": [
    "#### 5. Escribir una función para imprimir la información resumida\n",
    "\n",
    "La función debería:\n",
    "\n",
    "- Tomar dos parámetros: el nombre de la columna y los datos (el dataframe)\n",
    "- Imprimir la información, indicando de forma clara en qué consiste cada item que se imprime:\n",
    "    1. Imprimir el nombre de la columna\n",
    "    2. Imprimir la media de los datos usando ```np.mean()```\n",
    "    3. Imprimir la mediana de los datos usando ```np.median()``` \n",
    "    4. Imprimir la moda de los datos redondeados usando ```stats.mode()```\n",
    "    5. Imprimir la varianza de los datos usando ```np.var()```\n",
    "    6. Imprimir el desvío estándar de los datos usando ```np.std()```\n"
   ]
  },
  {
   "cell_type": "code",
   "execution_count": 9,
   "metadata": {},
   "outputs": [],
   "source": [
    "def info_resumen(columna, framededatos):\n",
    "    array = np.array(framededatos[columna])\n",
    "    print('El nombre de la columna es {}'.format(column))\n",
    "    print('La media de los datos es {:.2f}'.format(np.mean(array)))\n",
    "    print('La mediana de los datos es {:.2f}'.format(np.median(array)))\n",
    "    print('La moda de los datos es {}'.format(stats.mode(np.round(array,0))[0][0]))\n",
    "    print('La varianza de los datos es {:.2f}'.format(np.var(array)))\n",
    "    print('El desvio std de los datos es {:.2f}'.format(np.std(array)))"
   ]
  },
  {
   "cell_type": "markdown",
   "metadata": {},
   "source": [
    "##### **5.A** Usando la función definida, imprimir las medidas para 'volume_sold'"
   ]
  },
  {
   "cell_type": "code",
   "execution_count": 10,
   "metadata": {},
   "outputs": [
    {
     "ename": "NameError",
     "evalue": "name 'column' is not defined",
     "output_type": "error",
     "traceback": [
      "\u001b[1;31m---------------------------------------------------------------------------\u001b[0m",
      "\u001b[1;31mNameError\u001b[0m                                 Traceback (most recent call last)",
      "\u001b[1;32m<ipython-input-10-3e4dc48b8f68>\u001b[0m in \u001b[0;36m<module>\u001b[1;34m()\u001b[0m\n\u001b[1;32m----> 1\u001b[1;33m \u001b[0minfo_resumen\u001b[0m\u001b[1;33m(\u001b[0m\u001b[1;34m'volume_sold'\u001b[0m\u001b[1;33m,\u001b[0m \u001b[0msales\u001b[0m\u001b[1;33m)\u001b[0m\u001b[1;33m\u001b[0m\u001b[0m\n\u001b[0m",
      "\u001b[1;32m<ipython-input-9-2f9875cde3a6>\u001b[0m in \u001b[0;36minfo_resumen\u001b[1;34m(columna, framededatos)\u001b[0m\n\u001b[0;32m      1\u001b[0m \u001b[1;32mdef\u001b[0m \u001b[0minfo_resumen\u001b[0m\u001b[1;33m(\u001b[0m\u001b[0mcolumna\u001b[0m\u001b[1;33m,\u001b[0m \u001b[0mframededatos\u001b[0m\u001b[1;33m)\u001b[0m\u001b[1;33m:\u001b[0m\u001b[1;33m\u001b[0m\u001b[0m\n\u001b[0;32m      2\u001b[0m     \u001b[0marray\u001b[0m \u001b[1;33m=\u001b[0m \u001b[0mnp\u001b[0m\u001b[1;33m.\u001b[0m\u001b[0marray\u001b[0m\u001b[1;33m(\u001b[0m\u001b[0mframededatos\u001b[0m\u001b[1;33m[\u001b[0m\u001b[0mcolumna\u001b[0m\u001b[1;33m]\u001b[0m\u001b[1;33m)\u001b[0m\u001b[1;33m\u001b[0m\u001b[0m\n\u001b[1;32m----> 3\u001b[1;33m     \u001b[0mprint\u001b[0m\u001b[1;33m(\u001b[0m\u001b[1;34m'El nombre de la columna es {}'\u001b[0m\u001b[1;33m.\u001b[0m\u001b[0mformat\u001b[0m\u001b[1;33m(\u001b[0m\u001b[0mcolumn\u001b[0m\u001b[1;33m)\u001b[0m\u001b[1;33m)\u001b[0m\u001b[1;33m\u001b[0m\u001b[0m\n\u001b[0m\u001b[0;32m      4\u001b[0m     \u001b[0mprint\u001b[0m\u001b[1;33m(\u001b[0m\u001b[1;34m'La media de los datos es {:.2f}'\u001b[0m\u001b[1;33m.\u001b[0m\u001b[0mformat\u001b[0m\u001b[1;33m(\u001b[0m\u001b[0mnp\u001b[0m\u001b[1;33m.\u001b[0m\u001b[0mmean\u001b[0m\u001b[1;33m(\u001b[0m\u001b[0marray\u001b[0m\u001b[1;33m)\u001b[0m\u001b[1;33m)\u001b[0m\u001b[1;33m)\u001b[0m\u001b[1;33m\u001b[0m\u001b[0m\n\u001b[0;32m      5\u001b[0m     \u001b[0mprint\u001b[0m\u001b[1;33m(\u001b[0m\u001b[1;34m'La mediana de los datos es {:.2f}'\u001b[0m\u001b[1;33m.\u001b[0m\u001b[0mformat\u001b[0m\u001b[1;33m(\u001b[0m\u001b[0mnp\u001b[0m\u001b[1;33m.\u001b[0m\u001b[0mmedian\u001b[0m\u001b[1;33m(\u001b[0m\u001b[0marray\u001b[0m\u001b[1;33m)\u001b[0m\u001b[1;33m)\u001b[0m\u001b[1;33m)\u001b[0m\u001b[1;33m\u001b[0m\u001b[0m\n",
      "\u001b[1;31mNameError\u001b[0m: name 'column' is not defined"
     ]
    }
   ],
   "source": [
    "info_resumen('volume_sold', sales)"
   ]
  },
  {
   "cell_type": "markdown",
   "metadata": {},
   "source": [
    "##### **5.B** Usando la función definida, imprimir las medidas para '2015_margin'"
   ]
  },
  {
   "cell_type": "code",
   "execution_count": null,
   "metadata": {},
   "outputs": [],
   "source": [
    "info_resumen('2015_margin', sales)"
   ]
  },
  {
   "cell_type": "markdown",
   "metadata": {},
   "source": [
    "##### **5.C** Usando la función definida, imprimir las medidas para '2015_q1_sales'"
   ]
  },
  {
   "cell_type": "code",
   "execution_count": null,
   "metadata": {},
   "outputs": [],
   "source": [
    "info_resumen('2015_q1_sales', sales)"
   ]
  },
  {
   "cell_type": "markdown",
   "metadata": {},
   "source": [
    "##### **5.D** Usando la función definida, imprimir las medidas para '2016_q1_sales'"
   ]
  },
  {
   "cell_type": "code",
   "execution_count": null,
   "metadata": {},
   "outputs": [],
   "source": [
    "info_resumen('2016_q1_sales', sales)"
   ]
  },
  {
   "cell_type": "markdown",
   "metadata": {},
   "source": [
    "#### 6. Graficar las distribuciones\n",
    "\n",
    "Hemos provisto una función para graficar más abajo llamado ```distribution_plotter()```. Toma dos parámetros, el nombre de la columna y los datos asociados a dicha columna.\n",
    "\n",
    "En celdas individuales, graficar las distribuciones de cada una de las 4 columnas. ¿Los datos son asimétricos? ¿simétricos?"
   ]
  },
  {
   "cell_type": "code",
   "execution_count": null,
   "metadata": {},
   "outputs": [],
   "source": [
    "def distribution_plotter(column, dataframe):\n",
    "    data = np.array(dataframe[column])\n",
    "    sns.set(rc={\"figure.figsize\": (10, 7)})\n",
    "    sns.set_style(\"white\")\n",
    "    dist = sns.distplot(data, hist_kws={'alpha':0.2}, kde_kws={'linewidth':5})\n",
    "    dist.set_title('Distribucion de ' + column + '\\n', fontsize=16)"
   ]
  },
  {
   "cell_type": "code",
   "execution_count": null,
   "metadata": {},
   "outputs": [],
   "source": []
  },
  {
   "cell_type": "code",
   "execution_count": null,
   "metadata": {},
   "outputs": [],
   "source": []
  },
  {
   "cell_type": "code",
   "execution_count": null,
   "metadata": {},
   "outputs": [],
   "source": []
  },
  {
   "cell_type": "code",
   "execution_count": null,
   "metadata": {},
   "outputs": [],
   "source": []
  }
 ],
 "metadata": {
  "kernelspec": {
   "display_name": "Python 3",
   "language": "python",
   "name": "python3"
  },
  "language_info": {
   "codemirror_mode": {
    "name": "ipython",
    "version": 3
   },
   "file_extension": ".py",
   "mimetype": "text/x-python",
   "name": "python",
   "nbconvert_exporter": "python",
   "pygments_lexer": "ipython3",
   "version": "3.6.5"
  }
 },
 "nbformat": 4,
 "nbformat_minor": 1
}
