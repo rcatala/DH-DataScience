{
 "cells": [
  {
   "cell_type": "markdown",
   "metadata": {
    "colab_type": "text",
    "id": "3iJmob_PuMRi"
   },
   "source": [
    "#Lab"
   ]
  },
  {
   "cell_type": "code",
   "execution_count": 0,
   "metadata": {
    "colab": {},
    "colab_type": "code",
    "id": "wUZ4-UxZuMRk"
   },
   "outputs": [],
   "source": [
    "%matplotlib inline\n",
    "\n",
    "import pandas as pd\n",
    "import geopandas\n",
    "\n",
    "pd.options.display.max_rows = 10"
   ]
  },
  {
   "cell_type": "code",
   "execution_count": 0,
   "metadata": {
    "colab": {},
    "colab_type": "code",
    "id": "aApaN00luMRr"
   },
   "outputs": [],
   "source": [
    "import fiona\n",
    "import rtree"
   ]
  },
  {
   "cell_type": "markdown",
   "metadata": {
    "colab_type": "text",
    "id": "PxYifbO5uMRx"
   },
   "source": [
    "### Importamos los barrios"
   ]
  },
  {
   "cell_type": "code",
   "execution_count": 0,
   "metadata": {
    "colab": {},
    "colab_type": "code",
    "id": "tgkg6-5huMRz"
   },
   "outputs": [],
   "source": [
    "barrios = pd.read_csv(\"barrios.csv\", encoding='latin1')"
   ]
  },
  {
   "cell_type": "code",
   "execution_count": 0,
   "metadata": {
    "colab": {},
    "colab_type": "code",
    "id": "y49yIpOQuMR4",
    "outputId": "35fd0798-aec9-4253-d346-c5240950f24f"
   },
   "outputs": [
    {
     "data": {
      "text/html": [
       "<div>\n",
       "<style>\n",
       "    .dataframe thead tr:only-child th {\n",
       "        text-align: right;\n",
       "    }\n",
       "\n",
       "    .dataframe thead th {\n",
       "        text-align: left;\n",
       "    }\n",
       "\n",
       "    .dataframe tbody tr th {\n",
       "        vertical-align: top;\n",
       "    }\n",
       "</style>\n",
       "<table border=\"1\" class=\"dataframe\">\n",
       "  <thead>\n",
       "    <tr style=\"text-align: right;\">\n",
       "      <th></th>\n",
       "      <th>WKT</th>\n",
       "      <th>BARRIO</th>\n",
       "      <th>COMUNA</th>\n",
       "      <th>PERIMETRO</th>\n",
       "      <th>AREA</th>\n",
       "    </tr>\n",
       "  </thead>\n",
       "  <tbody>\n",
       "    <tr>\n",
       "      <th>0</th>\n",
       "      <td>POLYGON ((-58.4528200492791 -34.5959886570639,...</td>\n",
       "      <td>CHACARITA</td>\n",
       "      <td>15.0</td>\n",
       "      <td>7725.695228</td>\n",
       "      <td>3.118101e+06</td>\n",
       "    </tr>\n",
       "    <tr>\n",
       "      <th>1</th>\n",
       "      <td>POLYGON ((-58.4655768128541 -34.5965577078058,...</td>\n",
       "      <td>PATERNAL</td>\n",
       "      <td>15.0</td>\n",
       "      <td>7087.513295</td>\n",
       "      <td>2.229829e+06</td>\n",
       "    </tr>\n",
       "    <tr>\n",
       "      <th>2</th>\n",
       "      <td>POLYGON ((-58.4237529813037 -34.5978273383243,...</td>\n",
       "      <td>VILLA CRESPO</td>\n",
       "      <td>15.0</td>\n",
       "      <td>8132.699348</td>\n",
       "      <td>3.613584e+06</td>\n",
       "    </tr>\n",
       "    <tr>\n",
       "      <th>3</th>\n",
       "      <td>POLYGON ((-58.4946097568899 -34.6148652395239,...</td>\n",
       "      <td>VILLA DEL PARQUE</td>\n",
       "      <td>11.0</td>\n",
       "      <td>7705.389797</td>\n",
       "      <td>3.399596e+06</td>\n",
       "    </tr>\n",
       "    <tr>\n",
       "      <th>4</th>\n",
       "      <td>POLYGON ((-58.4128700313089 -34.6141162515854,...</td>\n",
       "      <td>ALMAGRO</td>\n",
       "      <td>5.0</td>\n",
       "      <td>8537.901368</td>\n",
       "      <td>4.050752e+06</td>\n",
       "    </tr>\n",
       "  </tbody>\n",
       "</table>\n",
       "</div>"
      ],
      "text/plain": [
       "                                                 WKT            BARRIO  \\\n",
       "0  POLYGON ((-58.4528200492791 -34.5959886570639,...         CHACARITA   \n",
       "1  POLYGON ((-58.4655768128541 -34.5965577078058,...          PATERNAL   \n",
       "2  POLYGON ((-58.4237529813037 -34.5978273383243,...      VILLA CRESPO   \n",
       "3  POLYGON ((-58.4946097568899 -34.6148652395239,...  VILLA DEL PARQUE   \n",
       "4  POLYGON ((-58.4128700313089 -34.6141162515854,...           ALMAGRO   \n",
       "\n",
       "   COMUNA    PERIMETRO          AREA  \n",
       "0    15.0  7725.695228  3.118101e+06  \n",
       "1    15.0  7087.513295  2.229829e+06  \n",
       "2    15.0  8132.699348  3.613584e+06  \n",
       "3    11.0  7705.389797  3.399596e+06  \n",
       "4     5.0  8537.901368  4.050752e+06  "
      ]
     },
     "execution_count": 4,
     "metadata": {
      "tags": []
     },
     "output_type": "execute_result"
    }
   ],
   "source": [
    "barrios.head()"
   ]
  },
  {
   "cell_type": "markdown",
   "metadata": {
    "colab_type": "text",
    "id": "SvJaRSCwuMSC"
   },
   "source": [
    "### Importamos las comisarías"
   ]
  },
  {
   "cell_type": "code",
   "execution_count": 0,
   "metadata": {
    "colab": {},
    "colab_type": "code",
    "id": "Tr12F8PduMSD"
   },
   "outputs": [],
   "source": [
    "comisarias = pd.read_csv(\"comisarias.csv\", encoding = \"latin1\")"
   ]
  },
  {
   "cell_type": "code",
   "execution_count": 0,
   "metadata": {
    "colab": {},
    "colab_type": "code",
    "id": "jTTM8NocuMSJ",
    "outputId": "12675b25-1328-4515-e7de-1e655c1f4cdb"
   },
   "outputs": [
    {
     "data": {
      "text/html": [
       "<div>\n",
       "<style>\n",
       "    .dataframe thead tr:only-child th {\n",
       "        text-align: right;\n",
       "    }\n",
       "\n",
       "    .dataframe thead th {\n",
       "        text-align: left;\n",
       "    }\n",
       "\n",
       "    .dataframe tbody tr th {\n",
       "        vertical-align: top;\n",
       "    }\n",
       "</style>\n",
       "<table border=\"1\" class=\"dataframe\">\n",
       "  <thead>\n",
       "    <tr style=\"text-align: right;\">\n",
       "      <th></th>\n",
       "      <th>X</th>\n",
       "      <th>Y</th>\n",
       "      <th>NOMBRE</th>\n",
       "    </tr>\n",
       "  </thead>\n",
       "  <tbody>\n",
       "    <tr>\n",
       "      <th>0</th>\n",
       "      <td>-58,4689436878227</td>\n",
       "      <td>-34,6831212290818</td>\n",
       "      <td>COMISARIA 52</td>\n",
       "    </tr>\n",
       "    <tr>\n",
       "      <th>1</th>\n",
       "      <td>-58,4746492080703</td>\n",
       "      <td>-34,6791693924514</td>\n",
       "      <td>COMISARIA 48</td>\n",
       "    </tr>\n",
       "    <tr>\n",
       "      <th>2</th>\n",
       "      <td>-58,5011656573568</td>\n",
       "      <td>-34,6619939312268</td>\n",
       "      <td>COMISARIA 42</td>\n",
       "    </tr>\n",
       "    <tr>\n",
       "      <th>3</th>\n",
       "      <td>-58,4319812938046</td>\n",
       "      <td>-34,6603948301002</td>\n",
       "      <td>COMISARIA 36</td>\n",
       "    </tr>\n",
       "    <tr>\n",
       "      <th>4</th>\n",
       "      <td>-58,4028302089945</td>\n",
       "      <td>-34,6419495347828</td>\n",
       "      <td>COMISARIA COMUNA 4</td>\n",
       "    </tr>\n",
       "    <tr>\n",
       "      <th>...</th>\n",
       "      <td>...</td>\n",
       "      <td>...</td>\n",
       "      <td>...</td>\n",
       "    </tr>\n",
       "    <tr>\n",
       "      <th>52</th>\n",
       "      <td>-58,4648209215308</td>\n",
       "      <td>-34,6161137159670</td>\n",
       "      <td>COMISARIA 50</td>\n",
       "    </tr>\n",
       "    <tr>\n",
       "      <th>53</th>\n",
       "      <td>-58,4395014329687</td>\n",
       "      <td>-34,6089785701230</td>\n",
       "      <td>COMISARIA 11</td>\n",
       "    </tr>\n",
       "    <tr>\n",
       "      <th>54</th>\n",
       "      <td>-58,4825254468868</td>\n",
       "      <td>-34,5651450980170</td>\n",
       "      <td>COMISARIA 49</td>\n",
       "    </tr>\n",
       "    <tr>\n",
       "      <th>55</th>\n",
       "      <td>-58,4633266271395</td>\n",
       "      <td>-34,5513755049490</td>\n",
       "      <td>COMISARIA 35</td>\n",
       "    </tr>\n",
       "    <tr>\n",
       "      <th>56</th>\n",
       "      <td>-58,4171560073913</td>\n",
       "      <td>-34,6447947419400</td>\n",
       "      <td>COMISARIA 34</td>\n",
       "    </tr>\n",
       "  </tbody>\n",
       "</table>\n",
       "<p>57 rows × 3 columns</p>\n",
       "</div>"
      ],
      "text/plain": [
       "                    X                  Y              NOMBRE\n",
       "0   -58,4689436878227  -34,6831212290818        COMISARIA 52\n",
       "1   -58,4746492080703  -34,6791693924514        COMISARIA 48\n",
       "2   -58,5011656573568  -34,6619939312268        COMISARIA 42\n",
       "3   -58,4319812938046  -34,6603948301002        COMISARIA 36\n",
       "4   -58,4028302089945  -34,6419495347828  COMISARIA COMUNA 4\n",
       "..                ...                ...                 ...\n",
       "52  -58,4648209215308  -34,6161137159670        COMISARIA 50\n",
       "53  -58,4395014329687  -34,6089785701230        COMISARIA 11\n",
       "54  -58,4825254468868  -34,5651450980170        COMISARIA 49\n",
       "55  -58,4633266271395  -34,5513755049490        COMISARIA 35\n",
       "56  -58,4171560073913  -34,6447947419400        COMISARIA 34\n",
       "\n",
       "[57 rows x 3 columns]"
      ]
     },
     "execution_count": 56,
     "metadata": {
      "tags": []
     },
     "output_type": "execute_result"
    }
   ],
   "source": [
    "comisarias"
   ]
  },
  {
   "cell_type": "markdown",
   "metadata": {
    "colab_type": "text",
    "id": "7c0SKgQquMSQ"
   },
   "source": [
    "### Creamos los objetos geográficos"
   ]
  },
  {
   "cell_type": "markdown",
   "metadata": {
    "colab_type": "text",
    "id": "7Xo7hDXSuMSS"
   },
   "source": [
    "Comenzamos generando los objetos geográficos- Para ello construya los GeoDataFrame tanto de los barrios como de las comisarías."
   ]
  },
  {
   "cell_type": "markdown",
   "metadata": {
    "colab_type": "text",
    "id": "GNPwfm2OuMST"
   },
   "source": [
    "Tenga presente que en el caso de las comisarías será necesario convertir las columnas de caracteres a números, para ello deberá:\n",
    "- Reemplazar las \",\" por \".\"\n",
    "- Convertir el dtype de object a numeric"
   ]
  },
  {
   "cell_type": "markdown",
   "metadata": {
    "colab_type": "text",
    "id": "RA3WxdQBuMSV"
   },
   "source": [
    "### Barrios"
   ]
  },
  {
   "cell_type": "code",
   "execution_count": 0,
   "metadata": {
    "colab": {},
    "colab_type": "code",
    "id": "qtsoy0q6uMSW"
   },
   "outputs": [],
   "source": []
  },
  {
   "cell_type": "markdown",
   "metadata": {
    "colab_type": "text",
    "id": "c0ZlPcJkuMSd"
   },
   "source": [
    "### Comisarías"
   ]
  },
  {
   "cell_type": "code",
   "execution_count": 0,
   "metadata": {
    "colab": {},
    "colab_type": "code",
    "id": "9Q4uLID6uMSe"
   },
   "outputs": [],
   "source": []
  },
  {
   "cell_type": "markdown",
   "metadata": {
    "colab_type": "text",
    "id": "REAG1PvhuMSj"
   },
   "source": [
    "### Visualización"
   ]
  },
  {
   "cell_type": "markdown",
   "metadata": {
    "colab_type": "text",
    "id": "SmSWYa0muMSk"
   },
   "source": [
    "Genere una visualización empleando folium donde veamos las dos capas geográficas."
   ]
  },
  {
   "cell_type": "code",
   "execution_count": 0,
   "metadata": {
    "colab": {},
    "colab_type": "code",
    "id": "QEoWeTZtuMSm"
   },
   "outputs": [],
   "source": []
  },
  {
   "cell_type": "markdown",
   "metadata": {
    "colab_type": "text",
    "id": "HgsdbM2PuMSs"
   },
   "source": [
    "¿Hay muchos barrios que no tienen comisarías? ¿Hay barrios que tienen muchas comisarías?"
   ]
  },
  {
   "cell_type": "markdown",
   "metadata": {
    "colab_type": "text",
    "id": "C82lfg66uMSt"
   },
   "source": [
    "### Spatial joins"
   ]
  },
  {
   "cell_type": "markdown",
   "metadata": {
    "colab_type": "text",
    "id": "8KA_XuqUuMSu"
   },
   "source": [
    "Para poder responder esta pregunta necesitamos saber en qué barrio se encuentra cada comisaría. Para ello vamos a realizar un join espacial usando \"geopandas.sjoin\". Léase la documentación sobre \"spatial joins\" en el siguiente link:\n",
    "http://geopandas.org/mergingdata.html"
   ]
  },
  {
   "cell_type": "markdown",
   "metadata": {
    "colab_type": "text",
    "id": "knyGmIrWuMSw"
   },
   "source": [
    "Luego, será necesario sumar la cantidad de comisarías por barrio."
   ]
  },
  {
   "cell_type": "code",
   "execution_count": 0,
   "metadata": {
    "colab": {},
    "colab_type": "code",
    "id": "ayC2TZDmuMSz"
   },
   "outputs": [],
   "source": []
  },
  {
   "cell_type": "markdown",
   "metadata": {
    "colab_type": "text",
    "id": "uutKNfRluMS4"
   },
   "source": [
    "### Áreas lejanas"
   ]
  },
  {
   "cell_type": "markdown",
   "metadata": {
    "colab_type": "text",
    "id": "9l2SWH2luMS5"
   },
   "source": [
    "Vemos varios barrios que no tienen ninguna comisaría, y otros con muchas. Tomemos el centroide de los barrios sin comisarías y veamos a qué distancia se encuentra la comisaría más cercana en cada caso."
   ]
  },
  {
   "cell_type": "markdown",
   "metadata": {
    "colab_type": "text",
    "id": "ma-UZemIuMS6"
   },
   "source": [
    "Primero, generemos una función que nos permita setear el crs en 4326y luego transforme el mismo a gkba."
   ]
  },
  {
   "cell_type": "code",
   "execution_count": 0,
   "metadata": {
    "colab": {},
    "colab_type": "code",
    "id": "rRAR9u9muMS7"
   },
   "outputs": [],
   "source": []
  },
  {
   "cell_type": "markdown",
   "metadata": {
    "colab_type": "text",
    "id": "TqCC4yxSuMTA"
   },
   "source": [
    "Segundo, generemos una función que dado un polígono, el nombre de un barrio, un conjunto de puntos y un parámetro k, haga un subset y se quede sólo con ese barrio, genere un centroide a partir del polígono y devuelva la distancia de los k puntos más cercanos. "
   ]
  },
  {
   "cell_type": "code",
   "execution_count": 0,
   "metadata": {
    "colab": {},
    "colab_type": "code",
    "id": "wc9y9x3kuMTB"
   },
   "outputs": [],
   "source": []
  },
  {
   "cell_type": "markdown",
   "metadata": {
    "colab_type": "text",
    "id": "v37QE_2buMTF"
   },
   "source": [
    "Apliquemos la función al subconjunto de barrios que no tienen comisarías."
   ]
  },
  {
   "cell_type": "code",
   "execution_count": 0,
   "metadata": {
    "colab": {},
    "colab_type": "code",
    "id": "1PJiR-PFuMTH"
   },
   "outputs": [],
   "source": []
  }
 ],
 "metadata": {
  "colab": {
   "name": "2.PRACTICA_LAB_GEOPANDAS_STARTER.ipynb",
   "provenance": [],
   "version": "0.3.2"
  },
  "kernelspec": {
   "display_name": "Python 3",
   "language": "python",
   "name": "python3"
  },
  "language_info": {
   "codemirror_mode": {
    "name": "ipython",
    "version": 3
   },
   "file_extension": ".py",
   "mimetype": "text/x-python",
   "name": "python",
   "nbconvert_exporter": "python",
   "pygments_lexer": "ipython3",
   "version": "3.6.5"
  }
 },
 "nbformat": 4,
 "nbformat_minor": 1
}
