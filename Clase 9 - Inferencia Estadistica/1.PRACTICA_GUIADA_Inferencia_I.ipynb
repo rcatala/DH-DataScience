{
 "cells": [
  {
   "cell_type": "markdown",
   "metadata": {
    "colab_type": "text",
    "id": "XGX6kRp2cAsM"
   },
   "source": [
    "# PRACTICA GUIADA: Nociones de Estadística Inferencial\n",
    "\n",
    "## Introducción\n",
    "\n",
    "La idea de esta práctica es \n",
    "Observemos la distribución de los [Klout Scores](https://klout.com/corp/score) que se adjunta en el archivo `klouts_scores.csv`.\n",
    "\n",
    "Imagine que tomamos como población las 1048 observaciones de Klout scores con las que contamos. \n",
    "\n",
    "\n",
    "## 1. Aproximando una distribución muestral de medias\n",
    "\n",
    "### Consignas\n",
    "\n",
    "1. Obtenemos una muestra de tamaño 5 y tomamos el promedio. Repetimos este paso 1000 veces para poder hacer un histograma de las medias. \n",
    "2. Obtenemos una muestra de tamaño  10 y tomamos el promedio. Repetimos este paso 1000 veces.\n",
    "3. Obtenemos una muestra de tamaño 100 y tomamos el promedio. Repetimos este paso 1000 veces.\n",
    "4. ¿Qué observa sobre el histograma de la media a medida que vamos aumentando el tamaño muestral?\n",
    "5. ¿Qué observa acerca del valor de las medias de las diferentes distribuciones muestrales en relación a la media poblacional?\n",
    "6. ¿Qué sucede con el desvío estándar? "
   ]
  },
  {
   "cell_type": "code",
   "execution_count": 1,
   "metadata": {
    "colab": {
     "autoexec": {
      "startup": false,
      "wait_interval": 0
     }
    },
    "colab_type": "code",
    "id": "CxGVA2_ecAsN"
   },
   "outputs": [],
   "source": [
    "import pandas as pd\n",
    "import numpy as np\n",
    "import scipy.stats as st\n",
    "import matplotlib.pyplot as plt\n",
    "%matplotlib inline"
   ]
  },
  {
   "cell_type": "code",
   "execution_count": 2,
   "metadata": {
    "colab": {
     "autoexec": {
      "startup": false,
      "wait_interval": 0
     }
    },
    "colab_type": "code",
    "id": "sYOFRjSPcAsU"
   },
   "outputs": [],
   "source": [
    "df = pd.read_csv('klout_scores.csv', header=None, decimal=\",\")\n",
    "df.columns = ['k_score']"
   ]
  },
  {
   "cell_type": "markdown",
   "metadata": {
    "colab_type": "text",
    "id": "v1lJmX2ScAsb"
   },
   "source": [
    "Definimos una función para hacer el sampling y calcular la media para una muestra de tamamaño n."
   ]
  },
  {
   "cell_type": "code",
   "execution_count": 3,
   "metadata": {
    "colab": {
     "autoexec": {
      "startup": false,
      "wait_interval": 0
     }
    },
    "colab_type": "code",
    "id": "WDjp-Rc3cAsd"
   },
   "outputs": [],
   "source": [
    "def sampling(df, n, r = False):\n",
    "    index = np.random.choice(range(0,len(df)), size = n, replace = r)\n",
    "    df_s = np.array(df.iloc[index,])\n",
    "    \n",
    "    return(df_s)\n",
    "\n",
    "def samp_mean(df, n_i):\n",
    "    means = []\n",
    "    for reps in range(0,1000):\n",
    "        s_ = sampling(df, n_i, r = True)\n",
    "        m_ = s_.mean()\n",
    "        means.append(m_)\n",
    "    return(means)\n"
   ]
  },
  {
   "cell_type": "code",
   "execution_count": 4,
   "metadata": {},
   "outputs": [
    {
     "data": {
      "text/html": [
       "<div>\n",
       "<style scoped>\n",
       "    .dataframe tbody tr th:only-of-type {\n",
       "        vertical-align: middle;\n",
       "    }\n",
       "\n",
       "    .dataframe tbody tr th {\n",
       "        vertical-align: top;\n",
       "    }\n",
       "\n",
       "    .dataframe thead th {\n",
       "        text-align: right;\n",
       "    }\n",
       "</style>\n",
       "<table border=\"1\" class=\"dataframe\">\n",
       "  <thead>\n",
       "    <tr style=\"text-align: right;\">\n",
       "      <th></th>\n",
       "      <th>k_score</th>\n",
       "    </tr>\n",
       "  </thead>\n",
       "  <tbody>\n",
       "    <tr>\n",
       "      <th>0</th>\n",
       "      <td>25.104179</td>\n",
       "    </tr>\n",
       "    <tr>\n",
       "      <th>1</th>\n",
       "      <td>60.908747</td>\n",
       "    </tr>\n",
       "    <tr>\n",
       "      <th>2</th>\n",
       "      <td>23.222238</td>\n",
       "    </tr>\n",
       "    <tr>\n",
       "      <th>3</th>\n",
       "      <td>51.553491</td>\n",
       "    </tr>\n",
       "    <tr>\n",
       "      <th>4</th>\n",
       "      <td>22.629690</td>\n",
       "    </tr>\n",
       "  </tbody>\n",
       "</table>\n",
       "</div>"
      ],
      "text/plain": [
       "     k_score\n",
       "0  25.104179\n",
       "1  60.908747\n",
       "2  23.222238\n",
       "3  51.553491\n",
       "4  22.629690"
      ]
     },
     "execution_count": 4,
     "metadata": {},
     "output_type": "execute_result"
    }
   ],
   "source": [
    "# Exploramos el DataFrame:\n",
    "\n",
    "df.head()"
   ]
  },
  {
   "cell_type": "code",
   "execution_count": 5,
   "metadata": {},
   "outputs": [
    {
     "data": {
      "text/html": [
       "<div>\n",
       "<style scoped>\n",
       "    .dataframe tbody tr th:only-of-type {\n",
       "        vertical-align: middle;\n",
       "    }\n",
       "\n",
       "    .dataframe tbody tr th {\n",
       "        vertical-align: top;\n",
       "    }\n",
       "\n",
       "    .dataframe thead th {\n",
       "        text-align: right;\n",
       "    }\n",
       "</style>\n",
       "<table border=\"1\" class=\"dataframe\">\n",
       "  <thead>\n",
       "    <tr style=\"text-align: right;\">\n",
       "      <th></th>\n",
       "      <th>k_score</th>\n",
       "    </tr>\n",
       "  </thead>\n",
       "  <tbody>\n",
       "    <tr>\n",
       "      <th>count</th>\n",
       "      <td>1048.000000</td>\n",
       "    </tr>\n",
       "    <tr>\n",
       "      <th>mean</th>\n",
       "      <td>37.719055</td>\n",
       "    </tr>\n",
       "    <tr>\n",
       "      <th>std</th>\n",
       "      <td>16.044315</td>\n",
       "    </tr>\n",
       "    <tr>\n",
       "      <th>min</th>\n",
       "      <td>10.000000</td>\n",
       "    </tr>\n",
       "    <tr>\n",
       "      <th>25%</th>\n",
       "      <td>23.174620</td>\n",
       "    </tr>\n",
       "    <tr>\n",
       "      <th>50%</th>\n",
       "      <td>41.094683</td>\n",
       "    </tr>\n",
       "    <tr>\n",
       "      <th>75%</th>\n",
       "      <td>50.284432</td>\n",
       "    </tr>\n",
       "    <tr>\n",
       "      <th>max</th>\n",
       "      <td>87.247529</td>\n",
       "    </tr>\n",
       "  </tbody>\n",
       "</table>\n",
       "</div>"
      ],
      "text/plain": [
       "           k_score\n",
       "count  1048.000000\n",
       "mean     37.719055\n",
       "std      16.044315\n",
       "min      10.000000\n",
       "25%      23.174620\n",
       "50%      41.094683\n",
       "75%      50.284432\n",
       "max      87.247529"
      ]
     },
     "execution_count": 5,
     "metadata": {},
     "output_type": "execute_result"
    }
   ],
   "source": [
    "# Obtenemos las principales medidas descriptivas:\n",
    "\n",
    "df.describe()"
   ]
  },
  {
   "cell_type": "code",
   "execution_count": 7,
   "metadata": {},
   "outputs": [
    {
     "data": {
      "image/png": "[encoded data removed]",
      "text/plain": [
       "<Figure size 432x288 with 1 Axes>"
      ]
     },
     "metadata": {},
     "output_type": "display_data"
    }
   ],
   "source": [
    "# Visualizamos la distribución de los scores Klout. Vemos que su distribución es bimodal \n",
    "df.plot.hist(bins=50);"
   ]
  },
  {
   "cell_type": "code",
   "execution_count": 8,
   "metadata": {
    "colab": {
     "autoexec": {
      "startup": false,
      "wait_interval": 0
     }
    },
    "colab_type": "code",
    "id": "3_VhCThlcAsh"
   },
   "outputs": [
    {
     "data": {
      "image/png": "[encoded data removed]",
      "text/plain": [
       "<Figure size 720x720 with 4 Axes>"
      ]
     },
     "metadata": {},
     "output_type": "display_data"
    }
   ],
   "source": [
    "m = []\n",
    "n_s = [5,10,100,10400]\n",
    "plt.figure(figsize=(10,10))\n",
    "for i in range(len(n_s)):\n",
    "    \n",
    "    mm = samp_mean(df, n_s[i])    \n",
    "    \n",
    "    plt.subplot(('22' + str(i+1)))\n",
    "    \n",
    "    plt.hist(mm)\n",
    "    \n",
    "    plt.xlim((0,60))\n",
    "    \n",
    "    plt.title('n=' + str(n_s[i]) + ' - ' + 'Media=' + str(np.mean(mm)))\n",
    "    "
   ]
  },
  {
   "cell_type": "markdown",
   "metadata": {
    "colab_type": "text",
    "id": "RPTzpzMkcAsn"
   },
   "source": [
    "## 2. Calculando un intervalo de confianza con `scipy`"
   ]
  },
  {
   "cell_type": "markdown",
   "metadata": {
    "colab_type": "text",
    "id": "NdcIeisscAso"
   },
   "source": [
    "### Consignas\n",
    "\n",
    "1. Ahora, extraiga una muestra de la población de tamaño n=200. \n",
    "2. A continuación, calcule un intervalo de confianza del 95% para la media poblacional"
   ]
  },
  {
   "cell_type": "code",
   "execution_count": null,
   "metadata": {},
   "outputs": [],
   "source": []
  },
  {
   "cell_type": "code",
   "execution_count": 9,
   "metadata": {
    "colab": {
     "autoexec": {
      "startup": false,
      "wait_interval": 0
     }
    },
    "colab_type": "code",
    "id": "IMYCed5WcAsp"
   },
   "outputs": [],
   "source": [
    "#Extraemos la muestra \n",
    "sample = sampling(df,200)"
   ]
  },
  {
   "cell_type": "code",
   "execution_count": 10,
   "metadata": {},
   "outputs": [
    {
     "data": {
      "text/plain": [
       "array([[13.58380148],\n",
       "       [56.51598016],\n",
       "       [12.13981508],\n",
       "       [23.22223768],\n",
       "       [60.99318829],\n",
       "       [54.91981112],\n",
       "       [48.40714053],\n",
       "       [13.24425152],\n",
       "       [21.76329323],\n",
       "       [44.48242985],\n",
       "       [23.16390037],\n",
       "       [15.97422662],\n",
       "       [30.32072007],\n",
       "       [50.49586619],\n",
       "       [50.07522653],\n",
       "       [45.41536496],\n",
       "       [42.75293165],\n",
       "       [13.89571237],\n",
       "       [13.34426333],\n",
       "       [64.69624   ],\n",
       "       [55.57813383],\n",
       "       [13.23209985],\n",
       "       [13.92698038],\n",
       "       [57.09565426],\n",
       "       [28.27028223],\n",
       "       [22.62969025],\n",
       "       [34.9734798 ],\n",
       "       [47.7943819 ],\n",
       "       [43.75262131],\n",
       "       [35.23589683],\n",
       "       [13.40468287],\n",
       "       [51.59388224],\n",
       "       [27.9806438 ],\n",
       "       [50.51128268],\n",
       "       [40.2062056 ],\n",
       "       [37.23001476],\n",
       "       [55.32780302],\n",
       "       [13.16056477],\n",
       "       [37.92123349],\n",
       "       [62.37865279],\n",
       "       [13.13950746],\n",
       "       [21.07289964],\n",
       "       [40.89873483],\n",
       "       [25.08567078],\n",
       "       [30.35920639],\n",
       "       [56.57657428],\n",
       "       [36.86770007],\n",
       "       [50.64197496],\n",
       "       [65.22017435],\n",
       "       [27.33694528],\n",
       "       [40.56246421],\n",
       "       [59.65882943],\n",
       "       [18.78108515],\n",
       "       [12.24242271],\n",
       "       [16.03702659],\n",
       "       [54.16369541],\n",
       "       [41.42335437],\n",
       "       [60.48245428],\n",
       "       [24.51290016],\n",
       "       [44.07046262],\n",
       "       [55.35459706],\n",
       "       [53.76523753],\n",
       "       [41.82282134],\n",
       "       [50.76833008],\n",
       "       [52.87011122],\n",
       "       [47.91303811],\n",
       "       [40.32498364],\n",
       "       [27.92673829],\n",
       "       [25.07256133],\n",
       "       [55.37663832],\n",
       "       [20.57068008],\n",
       "       [36.70247417],\n",
       "       [47.04751187],\n",
       "       [43.66425335],\n",
       "       [66.7834719 ],\n",
       "       [58.20715566],\n",
       "       [43.22032606],\n",
       "       [44.20856425],\n",
       "       [41.37009495],\n",
       "       [13.20061857],\n",
       "       [55.74567851],\n",
       "       [34.22207899],\n",
       "       [53.86215394],\n",
       "       [25.39633525],\n",
       "       [47.38174886],\n",
       "       [65.29007344],\n",
       "       [59.71107495],\n",
       "       [13.22263681],\n",
       "       [47.71522944],\n",
       "       [19.16467879],\n",
       "       [46.71098418],\n",
       "       [49.43952454],\n",
       "       [61.57789538],\n",
       "       [35.98537111],\n",
       "       [15.76151589],\n",
       "       [51.08500211],\n",
       "       [26.29085692],\n",
       "       [50.66546344],\n",
       "       [32.23063309],\n",
       "       [70.69758344],\n",
       "       [41.27900225],\n",
       "       [59.74892849],\n",
       "       [49.12718419],\n",
       "       [14.46196089],\n",
       "       [57.59835737],\n",
       "       [40.9465439 ],\n",
       "       [56.01608052],\n",
       "       [40.24346372],\n",
       "       [47.69261657],\n",
       "       [38.41801004],\n",
       "       [10.        ],\n",
       "       [27.04139957],\n",
       "       [48.02068558],\n",
       "       [42.51753863],\n",
       "       [57.51066445],\n",
       "       [54.87422452],\n",
       "       [19.71264037],\n",
       "       [13.60415675],\n",
       "       [22.31705833],\n",
       "       [26.37158799],\n",
       "       [12.91745921],\n",
       "       [12.63520121],\n",
       "       [53.44145707],\n",
       "       [44.98962378],\n",
       "       [49.21799145],\n",
       "       [46.93652035],\n",
       "       [44.08874603],\n",
       "       [58.89419571],\n",
       "       [11.58053927],\n",
       "       [49.67890645],\n",
       "       [56.88678953],\n",
       "       [43.20540474],\n",
       "       [13.26495186],\n",
       "       [26.67518949],\n",
       "       [57.09889244],\n",
       "       [37.22027195],\n",
       "       [24.78149468],\n",
       "       [49.33344048],\n",
       "       [24.09710835],\n",
       "       [16.23456756],\n",
       "       [12.81799949],\n",
       "       [12.50509547],\n",
       "       [43.90124539],\n",
       "       [12.75918661],\n",
       "       [53.3776901 ],\n",
       "       [25.58035061],\n",
       "       [41.36937863],\n",
       "       [40.78219363],\n",
       "       [10.        ],\n",
       "       [63.10770677],\n",
       "       [46.95044837],\n",
       "       [16.30922048],\n",
       "       [16.02014174],\n",
       "       [28.54427955],\n",
       "       [45.19591388],\n",
       "       [43.0518706 ],\n",
       "       [23.72087306],\n",
       "       [38.90686986],\n",
       "       [46.79063157],\n",
       "       [12.54888711],\n",
       "       [26.72403202],\n",
       "       [24.67416492],\n",
       "       [27.16909585],\n",
       "       [48.16911522],\n",
       "       [56.47568671],\n",
       "       [10.        ],\n",
       "       [14.63775484],\n",
       "       [32.45733265],\n",
       "       [26.51507812],\n",
       "       [26.43849817],\n",
       "       [40.76260591],\n",
       "       [41.40739037],\n",
       "       [30.0806324 ],\n",
       "       [55.71258996],\n",
       "       [40.95633163],\n",
       "       [55.42412154],\n",
       "       [46.8212358 ],\n",
       "       [41.66402538],\n",
       "       [44.89507426],\n",
       "       [18.13592755],\n",
       "       [54.40578286],\n",
       "       [50.87282416],\n",
       "       [68.05330732],\n",
       "       [11.56738621],\n",
       "       [33.49457291],\n",
       "       [51.64524827],\n",
       "       [52.55310616],\n",
       "       [12.91745921],\n",
       "       [15.38377623],\n",
       "       [56.04849799],\n",
       "       [50.51981947],\n",
       "       [63.97113292],\n",
       "       [52.1967592 ],\n",
       "       [44.3999963 ],\n",
       "       [56.46676264],\n",
       "       [17.17908472],\n",
       "       [59.40330342],\n",
       "       [19.69877257],\n",
       "       [11.350073  ],\n",
       "       [51.99112955]])"
      ]
     },
     "execution_count": 10,
     "metadata": {},
     "output_type": "execute_result"
    }
   ],
   "source": [
    "sample"
   ]
  },
  {
   "cell_type": "code",
   "execution_count": 11,
   "metadata": {
    "colab": {
     "autoexec": {
      "startup": false,
      "wait_interval": 0
     }
    },
    "colab_type": "code",
    "id": "BNAPlUXtcAsw"
   },
   "outputs": [
    {
     "data": {
      "text/plain": [
       "(35.64537966518106, 40.22693758047894)"
      ]
     },
     "execution_count": 11,
     "metadata": {},
     "output_type": "execute_result"
    }
   ],
   "source": [
    "# Calculamos los estadísticos para utilizar\n",
    "mean, sigma, n = np.mean(sample), np.std(sample), len(sample)\n",
    "\n",
    "# Calculamos el intervalo de confianza de una aproximación normal con el método de scipy\n",
    "st.norm.interval(0.95, loc=mean, scale = sigma/np.sqrt(n) )"
   ]
  },
  {
   "cell_type": "code",
   "execution_count": 12,
   "metadata": {
    "colab": {
     "autoexec": {
      "startup": false,
      "wait_interval": 0
     }
    },
    "colab_type": "code",
    "id": "IMt1Vf4CcAs1"
   },
   "outputs": [
    {
     "data": {
      "text/plain": [
       "(35.64533757080665, 40.22697967485335)"
      ]
     },
     "execution_count": 12,
     "metadata": {},
     "output_type": "execute_result"
    }
   ],
   "source": [
    "# Podemos calcularlo a mano... en base a la fórmula vista en las slides\n",
    "\n",
    "mean - 1.96 * sigma/np.sqrt(n), mean + 1.96*sigma/np.sqrt(n)"
   ]
  },
  {
   "cell_type": "code",
   "execution_count": null,
   "metadata": {},
   "outputs": [],
   "source": [
    "# Podemos usar la T-Student:\n",
    "\n",
    "st.t.interval(0.95, n-1,  loc=mean, scale=sigma/(np.sqrt(n)))"
   ]
  },
  {
   "cell_type": "code",
   "execution_count": null,
   "metadata": {},
   "outputs": [],
   "source": [
    "# Podemos calcularlo a mano:\n",
    "\n",
    "EI = mean + st.t.ppf(0.025, n-1)* sigma/(np.sqrt(n))\n",
    "ES = mean + st.t.ppf(0.975, n-1)* sigma/(np.sqrt(n))\n",
    "\n",
    "IC = (EI, ES)\n",
    "IC"
   ]
  },
  {
   "cell_type": "code",
   "execution_count": null,
   "metadata": {},
   "outputs": [],
   "source": [
    "# ppf(q, df, loc=0, scale=1)\tPercent point function. Inversa de la cdf (cumulative density function) \n",
    "\n",
    "st.t.cdf(st.t.ppf(0.025, n-1), n-1)"
   ]
  },
  {
   "cell_type": "code",
   "execution_count": null,
   "metadata": {},
   "outputs": [],
   "source": [
    "st.t.cdf(st.t.ppf(0.975, n-1), n-1)"
   ]
  },
  {
   "cell_type": "code",
   "execution_count": null,
   "metadata": {},
   "outputs": [],
   "source": []
  }
 ],
 "metadata": {
  "colab": {
   "collapsed_sections": [],
   "default_view": {},
   "name": "PRACTICA_GUIADA_1_Inferencia.ipynb",
   "provenance": [],
   "version": "0.3.2",
   "views": {}
  },
  "kernelspec": {
   "display_name": "Python 3",
   "language": "python",
   "name": "python3"
  },
  "language_info": {
   "codemirror_mode": {
    "name": "ipython",
    "version": 3
   },
   "file_extension": ".py",
   "mimetype": "text/x-python",
   "name": "python",
   "nbconvert_exporter": "python",
   "pygments_lexer": "ipython3",
   "version": "3.6.5"
  }
 },
 "nbformat": 4,
 "nbformat_minor": 1
}
