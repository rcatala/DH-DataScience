{
 "cells": [
  {
   "cell_type": "markdown",
   "metadata": {},
   "source": [
    "# DEMO - Expresiones regulares"
   ]
  },
  {
   "cell_type": "markdown",
   "metadata": {},
   "source": [
    "Como es habitual, comenzamos importando la librería necesaria para trabajar con expresiones regulares, en este caso, la librería **re** (por _regular expression_)."
   ]
  },
  {
   "cell_type": "code",
   "execution_count": 1,
   "metadata": {},
   "outputs": [],
   "source": [
    "import re"
   ]
  },
  {
   "cell_type": "markdown",
   "metadata": {},
   "source": [
    "La variable **cuil** contiene un string con los números CUIL correspondientes a distintos empleados de cierta compañía. El formato en que se almacena esta información dista mucho de ser homogéneo. Nuestro propósito es utilizar **regex** para extraer la información relevante y estandarizar esta categoría bajo el formato **\"nombre: CUIL\" (sin espacios, guiones ni ningún caracter distinto a los números)**."
   ]
  },
  {
   "cell_type": "code",
   "execution_count": 2,
   "metadata": {},
   "outputs": [],
   "source": [
    "cuil = \"\"\" Javier 20-28490848-8\n",
    "Laura - 27 33495648 9\n",
    "Eva23366154122\n",
    "Diego: 24.18357496.5 \"\"\""
   ]
  },
  {
   "cell_type": "markdown",
   "metadata": {},
   "source": [
    "Definimos nuestro patrón de búsqueda."
   ]
  },
  {
   "cell_type": "code",
   "execution_count": 3,
   "metadata": {},
   "outputs": [],
   "source": [
    "# Un patrón se define dentro de apóstrofes (o comillas) luego de la letra r minúscula\n",
    "pattern = r'([a-z]+)\\s?-?:?\\s?(\\d*)-?\\s?\\.?(\\d*)-?\\s?\\.?(\\d*)'"
   ]
  },
  {
   "cell_type": "markdown",
   "metadata": {},
   "source": [
    "Luego, **compilamos** el patrón definido en un objeto particular, regex. Al compilar, podemos trabajar con algunos métodos específicos, tales como **.findall()**, **.search()** y **.group()**, entre otros."
   ]
  },
  {
   "cell_type": "code",
   "execution_count": 4,
   "metadata": {},
   "outputs": [],
   "source": [
    "regex = re.compile(pattern, flags = re.IGNORECASE) # seteamos una flag que ignora la diferencia entre minúsculas y mayúsculas"
   ]
  },
  {
   "cell_type": "markdown",
   "metadata": {},
   "source": [
    "Hacemos la búsqueda utilizando el método **.findall()**, que devuelve una lista con tuplas que contienen todos los grupos de captura que _matchean_ con el patrón."
   ]
  },
  {
   "cell_type": "code",
   "execution_count": 5,
   "metadata": {},
   "outputs": [
    {
     "data": {
      "text/plain": [
       "[('Javier', '20', '28490848', '8'),\n",
       " ('Laura', '27', '33495648', '9'),\n",
       " ('Eva', '23366154122', '', ''),\n",
       " ('Diego', '24', '18357496', '5')]"
      ]
     },
     "execution_count": 5,
     "metadata": {},
     "output_type": "execute_result"
    }
   ],
   "source": [
    "m = regex.findall(cuil)\n",
    "m"
   ]
  },
  {
   "cell_type": "markdown",
   "metadata": {},
   "source": [
    "Utilizando **listas por comprensión**, generamos nuestra lista de empleados."
   ]
  },
  {
   "cell_type": "code",
   "execution_count": 6,
   "metadata": {},
   "outputs": [
    {
     "data": {
      "text/plain": [
       "['Javier 20 28490848 8',\n",
       " 'Laura 27 33495648 9',\n",
       " 'Eva 23366154122  ',\n",
       " 'Diego 24 18357496 5']"
      ]
     },
     "execution_count": 6,
     "metadata": {},
     "output_type": "execute_result"
    }
   ],
   "source": [
    "lista_empleados = [' '.join(e) for e in m]\n",
    "lista_empleados"
   ]
  },
  {
   "cell_type": "markdown",
   "metadata": {},
   "source": [
    "Definimos una función que utiliza el método **.search()**, el cual escanea a lo largo de un string buscando la primera coincidencia con el patrón y, si existe tal coincidencia, devuelve un **objeto tipo _match_** (en caso contrario, devuelve **None**). Luego, la función devuelve la impresión de los distintos grupos de captura concatenados entre sí."
   ]
  },
  {
   "cell_type": "code",
   "execution_count": 7,
   "metadata": {},
   "outputs": [],
   "source": [
    "def busqueda_cuil(x):\n",
    "    m = regex.search(x)\n",
    "    if m:\n",
    "        return(print(m.group(1) + ':', m.group(2) + m.group(3) + m.group(4)))"
   ]
  },
  {
   "cell_type": "markdown",
   "metadata": {},
   "source": [
    "Aplicamos la función a cada elemento del listado de empleados y obtenemos el resultado deseado."
   ]
  },
  {
   "cell_type": "code",
   "execution_count": null,
   "metadata": {},
   "outputs": [],
   "source": [
    "for empleado in lista_empleados:\n",
    "    busqueda_cuil(empleado)"
   ]
  },
  {
   "cell_type": "markdown",
   "metadata": {},
   "source": [
    "Para profundizar, puede consultarse la documentación oficial de la librería **re**, disponible en https://docs.python.org/3/library/re.html."
   ]
  }
 ],
 "metadata": {
  "kernelspec": {
   "display_name": "Python 3",
   "language": "python",
   "name": "python3"
  },
  "language_info": {
   "codemirror_mode": {
    "name": "ipython",
    "version": 3
   },
   "file_extension": ".py",
   "mimetype": "text/x-python",
   "name": "python",
   "nbconvert_exporter": "python",
   "pygments_lexer": "ipython3",
   "version": "3.6.5"
  }
 },
 "nbformat": 4,
 "nbformat_minor": 2
}
